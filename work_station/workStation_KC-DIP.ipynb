{
 "cells": [
  {
   "cell_type": "code",
   "execution_count": 1,
   "id": "690fe30b",
   "metadata": {},
   "outputs": [],
   "source": [
    "import os\n",
    "os.chdir(\"/nas/longleaf/home/cctsai/proj_dip/\")\n",
    "# /work/users/c/c/cctsai/data/BCP_sample/T2/"
   ]
  },
  {
   "cell_type": "code",
   "execution_count": 2,
   "id": "fbd69918",
   "metadata": {
    "scrolled": true
   },
   "outputs": [
    {
     "name": "stdout",
     "output_type": "stream",
     "text": [
      "[NbConvertApp] Converting notebook submission_ablation.ipynb to script\n",
      "[NbConvertApp] Writing 12731 bytes to submission_ablation.py\n"
     ]
    },
    {
     "name": "stderr",
     "output_type": "stream",
     "text": [
      "usage: ipykernel_launcher.py [-h] [--file FILE] [--factor FACTOR]\n",
      "                             [--model_folder MODEL_FOLDER] [--input_img]\n",
      "                             [--double_arm DOUBLE_ARM] [--SSIM] [--kspace_mse]\n",
      "                             [--kspace_mse_shape KSPACE_MSE_SHAPE]\n",
      "                             [--kspace_mse_weight KSPACE_MSE_WEIGHT]\n",
      "                             [--kspace_boundary]\n",
      "                             [--kbound_weight KBOUND_WEIGHT]\n",
      "                             [--kbound_lower KBOUND_LOWER]\n",
      "                             [--kbound_outer_layer KBOUND_OUTER_LAYER]\n",
      "ipykernel_launcher.py: error: unrecognized arguments: -f /nas/longleaf/home/cctsai/.local/share/jupyter/runtime/kernel-ac38e1cd-b2dd-4d9b-85d6-d42f6eb01f0d.json\n"
     ]
    },
    {
     "ename": "SystemExit",
     "evalue": "2",
     "output_type": "error",
     "traceback": [
      "An exception has occurred, use %tb to see the full traceback.\n",
      "\u001b[0;31mSystemExit\u001b[0m\u001b[0;31m:\u001b[0m 2\n"
     ]
    },
    {
     "name": "stderr",
     "output_type": "stream",
     "text": [
      "/nas/longleaf/rhel8/apps/anaconda/2021.11.ood/lib/python3.9/site-packages/IPython/core/interactiveshell.py:3452: UserWarning: To exit: use 'exit', 'quit', or Ctrl-D.\n",
      "  warn(\"To exit: use 'exit', 'quit', or Ctrl-D.\", stacklevel=1)\n"
     ]
    },
    {
     "ename": "SystemExit",
     "evalue": "2",
     "output_type": "error",
     "traceback": [
      "An exception has occurred, use %tb to see the full traceback.\n",
      "\u001b[0;31mSystemExit\u001b[0m\u001b[0;31m:\u001b[0m 2\n"
     ]
    }
   ],
   "source": [
    "!jupyter nbconvert --to script submission_ablation.ipynb\n",
    "\n",
    "exp_namespace = 'T2/KC-DIP'\n",
    "submission_py = \"submission_ablation.py\"\n",
    "%run \"submission_ablation.ipynb\"\n",
    "\n",
    "\n",
    "# # # # # # \n",
    "\"\"\"\n",
    "\n",
    "vvvvvvvvvvvvv\n",
    "v) DIP+TV\n",
    "v) dDIP, dDIP_noKspace (1.25)\n",
    "v) sDIP, sDIP_noKspace (1.25, 1.6, 2)\n",
    "v) without_kbound 但有kspace\n",
    "v) kspace_mse_shape_without_boundary \n",
    "v) kspace_mse_shape\n",
    "\"\"\"\n",
    "\n",
    "\"/nas/longleaf/home/cctsai\"\n",
    "\"/work/users/c/c/cctsai\""
   ]
  },
  {
   "cell_type": "code",
   "execution_count": 3,
   "id": "b3f043b9",
   "metadata": {},
   "outputs": [],
   "source": [
    "# You can change the names here\n",
    "#exp_namespace = 'ablation/kspace_boundary/noMSE/{}'\n",
    "\n",
    "### fixed ###\n",
    "template = \"\"\"#!/bin/bash\n",
    "\n",
    "#SBATCH --job-name=pytorch\n",
    "#SBATCH --ntasks=1\n",
    "#SBATCH --cpus-per-task=2\n",
    "#SBATCH --mem=50G\n",
    "#SBATCH --time=40:00:00\n",
    "#SBATCH --partition=a100-gpu\n",
    "#SBATCH --output=slurm_log/{}/run-%j.log --open-mode=append\n",
    "#SBATCH --gres=gpu:1\n",
    "#SBATCH --qos=gpu_access\n",
    "\n",
    "# Path to the package directory\n",
    "PACKAGE_PATH=/nas/longleaf/home/cctsai/.local/lib/python3.9/site-packages\n",
    "\n",
    "# Add the package path to Python's sys.path\n",
    "export PYTHONPATH=\"$PYTHONPATH:$PACKAGE_PATH\"\n",
    "\n",
    "module load cuda/11.8\n",
    "module load python/3.9.6\n",
    "\n",
    "cd /nas/longleaf/home/cctsai/proj_dip/\n",
    "\n",
    "python {} {}\n",
    "\"\"\""
   ]
  },
  {
   "cell_type": "code",
   "execution_count": 4,
   "id": "45d6b842",
   "metadata": {},
   "outputs": [
    {
     "name": "stdout",
     "output_type": "stream",
     "text": [
      "['/work/users/c/c/cctsai/data/BCP_sample/T2/MNBCP223008_233_T2w_SPC_NORM_5.npy', '/work/users/c/c/cctsai/data/BCP_sample/T2/MNBCP522586_342_T2w_SPC_NORM_5.npy', '/work/users/c/c/cctsai/data/BCP_sample/T2/MNBCP116056_205_T2w_SPC_NORM_9.npy', '/work/users/c/c/cctsai/data/BCP_sample/T2/MNBCP439083_146_T2w_SPC_NORM_5.npy', '/work/users/c/c/cctsai/data/BCP_sample/T2/MNBCP477045_317_T2w_SPC_NORM_5.npy', '/work/users/c/c/cctsai/data/BCP_sample/T2/MNBCP206192_92_T2w_SPC_NORM_7.npy', '/work/users/c/c/cctsai/data/BCP_sample/T2/NCBCP062519_17_T2w_SPC_NORM_5.npy', '/work/users/c/c/cctsai/data/BCP_sample/T2/MNBCP439083_54_T2w_SPC_NORM_5.npy', '/work/users/c/c/cctsai/data/BCP_sample/T2/MNBCP116845_109_T2w_SPC_NORM_6.npy', '/work/users/c/c/cctsai/data/BCP_sample/T2/MNBCP229768_272_T2w_SPC_NORM_5.npy']\n"
     ]
    }
   ],
   "source": [
    "# ages = ['17', '51', '54', '92', '109', '146', '179', '205', '233', '272', '317', '342', '357']\n",
    "# ages = ['17', '179', '272', '317', '357']\n",
    "# ages = ['51', '179', '357']\n",
    "ages = ['233', '342', '205', '146', '317', '92', '17', '54', '109', '272']\n",
    "\n",
    "\n",
    "import glob, os\n",
    "files = []\n",
    "\n",
    "for age in ages:\n",
    "    files += glob.glob(f\"/work/users/c/c/cctsai/data/BCP_sample/T2/*_{age}_*.npy\")\n",
    "print(files)\n",
    "\n",
    "def create_slurm_folders(task_name):\n",
    "    for dst_dir in ['slurm', 'slurm_log']:\n",
    "        new_folder = f\"/nas/longleaf/home/cctsai/proj_dip/{dst_dir}/{task_name}\"\n",
    "        if not os.path.exists(new_folder):\n",
    "            os.makedirs(new_folder)\n",
    "            print('Create:',new_folder)"
   ]
  },
  {
   "cell_type": "code",
   "execution_count": 5,
   "id": "b4269c5c",
   "metadata": {},
   "outputs": [
    {
     "name": "stdout",
     "output_type": "stream",
     "text": [
      "--file /work/users/c/c/cctsai/data/BCP_sample/T2/MNBCP223008_233_T2w_SPC_NORM_5.npy --factor 2 --model_folder T2/KC-DIP --double_arm True--kspace_mse --kspace_boundary --kbound_outer_layer False\n",
      "--file /work/users/c/c/cctsai/data/BCP_sample/T2/MNBCP522586_342_T2w_SPC_NORM_5.npy --factor 2 --model_folder T2/KC-DIP --double_arm True--kspace_mse --kspace_boundary --kbound_outer_layer False\n",
      "--file /work/users/c/c/cctsai/data/BCP_sample/T2/MNBCP116056_205_T2w_SPC_NORM_9.npy --factor 2 --model_folder T2/KC-DIP --double_arm True--kspace_mse --kspace_boundary --kbound_outer_layer False\n",
      "--file /work/users/c/c/cctsai/data/BCP_sample/T2/MNBCP439083_146_T2w_SPC_NORM_5.npy --factor 2 --model_folder T2/KC-DIP --double_arm True--kspace_mse --kspace_boundary --kbound_outer_layer False\n",
      "--file /work/users/c/c/cctsai/data/BCP_sample/T2/MNBCP477045_317_T2w_SPC_NORM_5.npy --factor 2 --model_folder T2/KC-DIP --double_arm True--kspace_mse --kspace_boundary --kbound_outer_layer False\n",
      "--file /work/users/c/c/cctsai/data/BCP_sample/T2/MNBCP206192_92_T2w_SPC_NORM_7.npy --factor 2 --model_folder T2/KC-DIP --double_arm True--kspace_mse --kspace_boundary --kbound_outer_layer False\n",
      "--file /work/users/c/c/cctsai/data/BCP_sample/T2/NCBCP062519_17_T2w_SPC_NORM_5.npy --factor 2 --model_folder T2/KC-DIP --double_arm True--kspace_mse --kspace_boundary --kbound_outer_layer False\n",
      "--file /work/users/c/c/cctsai/data/BCP_sample/T2/MNBCP439083_54_T2w_SPC_NORM_5.npy --factor 2 --model_folder T2/KC-DIP --double_arm True--kspace_mse --kspace_boundary --kbound_outer_layer False\n",
      "--file /work/users/c/c/cctsai/data/BCP_sample/T2/MNBCP116845_109_T2w_SPC_NORM_6.npy --factor 2 --model_folder T2/KC-DIP --double_arm True--kspace_mse --kspace_boundary --kbound_outer_layer False\n",
      "--file /work/users/c/c/cctsai/data/BCP_sample/T2/MNBCP229768_272_T2w_SPC_NORM_5.npy --factor 2 --model_folder T2/KC-DIP --double_arm True--kspace_mse --kspace_boundary --kbound_outer_layer False\n"
     ]
    }
   ],
   "source": [
    "# for factor in [2]:\n",
    "#     for kbound_weight in [0.001, 0.0005, 0.0001]:\n",
    "#         for kbound_outer in ['True','False']:\n",
    "#             exp_name = exp_namespace.format(f'kbound_weight_{kbound_weight}/kbound_outer_{kbound_outer}')\n",
    "\n",
    "factor = 2\n",
    "\n",
    "# for kbound in ['kbound', 'nokbound']:\n",
    "exp_name = f\"{exp_namespace}\"\n",
    "\n",
    "###\n",
    "task_name = exp_name\n",
    "create_slurm_folders(task_name)\n",
    "for npy_file in files:\n",
    "    arg1 = f\"--file {npy_file} --factor {factor} --model_folder {exp_name} --double_arm True \"\n",
    "#     arg2 = f\"--double_arm False\"\n",
    "#     if kbound==\"kbound\":\n",
    "    arg2 = f\"--kspace_mse --kspace_boundary --kbound_outer_layer False\"         \n",
    "#     elif kbound==\"nokbound\":\n",
    "#         arg2 = f\"--kspace_mse --kbound_outer_layer False\"\n",
    "#     else:\n",
    "#         raise ValueError(\"error\")\n",
    "    arg_strings = arg1 + arg2\n",
    "    print(arg_strings)\n",
    "\n",
    "    ### write to file\n",
    "    script_content = template.format(task_name, submission_py, arg_strings)\n",
    "    age = npy_file.split('/')[-1].split(\"_\")[1]\n",
    "    filename = f'/nas/longleaf/home/cctsai/proj_dip/slurm/{task_name}/age_{age}_.slurm'\n",
    "    with open(filename, 'w') as script_file:\n",
    "        script_file.write(script_content)"
   ]
  },
  {
   "cell_type": "markdown",
   "id": "f3743a49",
   "metadata": {},
   "source": [
    "# Submit slurm files"
   ]
  },
  {
   "cell_type": "code",
   "execution_count": 6,
   "id": "35b9bce8",
   "metadata": {},
   "outputs": [
    {
     "name": "stdout",
     "output_type": "stream",
     "text": [
      "10\n",
      "['/nas/longleaf/home/cctsai/proj_dip/slurm/T2/KC-DIP/age_233_.slurm', '/nas/longleaf/home/cctsai/proj_dip/slurm/T2/KC-DIP/age_342_.slurm', '/nas/longleaf/home/cctsai/proj_dip/slurm/T2/KC-DIP/age_205_.slurm', '/nas/longleaf/home/cctsai/proj_dip/slurm/T2/KC-DIP/age_146_.slurm', '/nas/longleaf/home/cctsai/proj_dip/slurm/T2/KC-DIP/age_317_.slurm', '/nas/longleaf/home/cctsai/proj_dip/slurm/T2/KC-DIP/age_92_.slurm', '/nas/longleaf/home/cctsai/proj_dip/slurm/T2/KC-DIP/age_17_.slurm', '/nas/longleaf/home/cctsai/proj_dip/slurm/T2/KC-DIP/age_54_.slurm', '/nas/longleaf/home/cctsai/proj_dip/slurm/T2/KC-DIP/age_109_.slurm', '/nas/longleaf/home/cctsai/proj_dip/slurm/T2/KC-DIP/age_272_.slurm']\n"
     ]
    }
   ],
   "source": [
    "slurm_files = []\n",
    "\n",
    "# for tv_weight in [0.0005, 0.0001, 0.00005, 0.00001]:\n",
    "#     exp_name = f\"{exp_namespace}/tv_weight_{tv_weight}\"\n",
    "\n",
    "\n",
    "exp_name = f\"{exp_namespace}\"\n",
    "\n",
    "# do not replace:\n",
    "task_name = exp_name\n",
    "#     task_name = f\"{exp_name}/{int(factor*100)}\"\n",
    "\n",
    "for age in ages:\n",
    "    slurm_files +=glob.glob(f\"/nas/longleaf/home/cctsai/proj_dip/slurm/{task_name}/age_{age}_*.slurm\")\n",
    "\n",
    "print(len(slurm_files))\n",
    "print(slurm_files)"
   ]
  },
  {
   "cell_type": "code",
   "execution_count": null,
   "id": "bb9f9aca",
   "metadata": {},
   "outputs": [],
   "source": []
  },
  {
   "cell_type": "code",
   "execution_count": null,
   "id": "a17fc1dd",
   "metadata": {},
   "outputs": [],
   "source": []
  },
  {
   "cell_type": "code",
   "execution_count": 7,
   "id": "219adc3b",
   "metadata": {},
   "outputs": [
    {
     "name": "stdout",
     "output_type": "stream",
     "text": [
      "Standard Output: Submitted batch job 34745420\n",
      "\n",
      "Standard Output: Submitted batch job 34745421\n",
      "\n",
      "Standard Output: Submitted batch job 34745422\n",
      "\n",
      "Standard Output: Submitted batch job 34745423\n",
      "\n",
      "Standard Output: Submitted batch job 34745424\n",
      "\n",
      "Standard Output: Submitted batch job 34745425\n",
      "\n",
      "Standard Output: Submitted batch job 34745426\n",
      "\n",
      "Standard Output: Submitted batch job 34745427\n",
      "\n",
      "Standard Output: Submitted batch job 34745428\n",
      "\n",
      "Standard Output: Submitted batch job 34745429\n",
      "\n",
      "Total 10 jobs\n"
     ]
    }
   ],
   "source": [
    "import subprocess\n",
    "\n",
    "stdouts = []\n",
    "\n",
    "for slurm_file in slurm_files:\n",
    "    command = f'sbatch {slurm_file}'\n",
    "    completed_process = subprocess.run(command, shell=True, stdout=subprocess.PIPE, stderr=subprocess.PIPE, text=True)\n",
    "    # Print the captured output\n",
    "    print(\"Standard Output:\", completed_process.stdout)\n",
    "    stdouts.append(completed_process.stdout)\n",
    "    \n",
    "print(\"Total\", len(stdouts), \"jobs\")"
   ]
  }
 ],
 "metadata": {
  "kernelspec": {
   "display_name": "Python 3 (ipykernel)",
   "language": "python",
   "name": "python3"
  },
  "language_info": {
   "codemirror_mode": {
    "name": "ipython",
    "version": 3
   },
   "file_extension": ".py",
   "mimetype": "text/x-python",
   "name": "python",
   "nbconvert_exporter": "python",
   "pygments_lexer": "ipython3",
   "version": "3.9.7"
  }
 },
 "nbformat": 4,
 "nbformat_minor": 5
}
