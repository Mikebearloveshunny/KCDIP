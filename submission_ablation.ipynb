{
 "cells": [
  {
   "cell_type": "code",
   "execution_count": 1,
   "id": "c8876034",
   "metadata": {
    "colab": {
     "base_uri": "https://localhost:8080/"
    },
    "executionInfo": {
     "elapsed": 28535,
     "status": "ok",
     "timestamp": 1688480509811,
     "user": {
      "displayName": "Cheng-Che Tsai",
      "userId": "06148275036649066160"
     },
     "user_tz": -480
    },
    "id": "c8876034",
    "outputId": "8b8d3e3d-61da-4de1-cf61-3d38b3f244fb"
   },
   "outputs": [
    {
     "name": "stdout",
     "output_type": "stream",
     "text": [
      "Task name: 357_T1w_MPR_NORM_3, factor=1.75\n",
      "file: /work/users/c/c/cctsai/data/BCP_sample/357_T1w_MPR_NORM_3.npy\n",
      "factor: 1.75\n",
      "model_folder: dev_mode\n",
      "input_img: True\n",
      "double_arm: True\n",
      "kspace_mse: True\n",
      "kspace_boundary: False\n",
      "kbound_weight: 0.0005\n",
      "kbound_lower: 0.95\n",
      "kspace_mse_shape: u\n",
      "kspace_mse_weight: 1.0\n",
      "kbound_outer_layer: True\n"
     ]
    }
   ],
   "source": [
    "from argparse import ArgumentParser\n",
    "parser = ArgumentParser()\n",
    "parser.add_argument(\"--file\")\n",
    "parser.add_argument(\"--factor\")\n",
    "parser.add_argument(\"--model_folder\") #-> if not specified, create a folder for it\n",
    "parser.add_argument(\"--method\", default='kcdip') # -> can be chosen\n",
    "\n",
    "# can be customized\n",
    "parser.add_argument(\"--kspace_mse_shape\", default='v') # -> can be chosen\n",
    "parser.add_argument(\"--kspace_boundary\", action=\"store_true\", default=False) #can be chosen\n",
    "parser.add_argument(\"--double_arm\", default=\"True\") # -> can be chosen\n",
    "parser.add_argument(\"--kspace_mse\", action=\"store_true\", default=False) #-> fixed\n",
    "\n",
    "args = parser.parse_args()\n",
    "    \n",
    "\n",
    "######  set up ######\n",
    "configs = dict()\n",
    "\n",
    "configs['file'] = args.file\n",
    "configs['model_folder'] = args.model_folder\n",
    "configs['factor'] = float(args.factor)  #1.25, 1.5, 1.75, 2    \n",
    "configs['method'] = args.method\n",
    "\n",
    "import json\n",
    "with open(\"default_settings.json\", \"r\") as json_file:\n",
    "    default_settings = json.load(json_file)\n",
    "\n",
    "if configs['method'] in ['kcdip','dip','diptv']:\n",
    "    configs.update(default_settings[configs['method']])\n",
    "\n",
    "import os, sys, glob\n",
    "sys.path.append(\"./utils\")\n",
    "\n",
    "import datetime\n",
    "import numpy as np\n",
    "import torch\n",
    "import torch.optim\n",
    "import torch.nn.functional as F\n",
    "from skimage.metrics import structural_similarity as compare_ssim\n",
    "torch.backends.cudnn.enabled = True\n",
    "torch.backends.cudnn.benchmark =True\n",
    "dtype = torch.cuda.FloatTensor\n",
    "os.environ['KMP_DUPLICATE_LIB_OK'] = 'TRUE'\n",
    "\n",
    "###\n",
    "from utils_unet3D_ver3 import *\n",
    "from utils_kspace_torch import *\n",
    "from utils.models import *\n",
    "from utils.prep import *\n",
    "from utils.sr_common import *\n",
    "\n",
    "\n",
    "current_time = datetime.datetime.now().strftime(\"%H%M%S\")\n",
    "res_dir = f\"{configs['model_folder']}/{current_time}\"\n",
    "\n",
    "# save the argument in the output txt\n",
    "print_log = lambda msg: write_log(msg, f'{res_dir}/log/{current_time}.txt')\n",
    "\n",
    "args_dict = vars(args)\n",
    "args_string = \"\\n\".join([f\"{key}: {value}\" for key, value in args_dict.items()])\n",
    "print_log(args_string)\n",
    "print_log(\"Start!\")\n",
    "\n",
    "\n",
    "for new_dir in [res_dir, f\"{res_dir}/model\", f\"{res_dir}/log\"]:\n",
    "    os.makedirs(new_dir, exist_ok=True)"
   ]
  },
  {
   "cell_type": "code",
   "execution_count": 2,
   "id": "ec5857f4",
   "metadata": {},
   "outputs": [],
   "source": [
    "TWOARM_RATIO = 1/5 # ratio between unsupervsied and self-supervised\n",
    "OPT_OVER =  'net'\n",
    "\n",
    "LR = 0.0001 #learning rate\n",
    "KSPACE_WEIGHT = 0.0001\n",
    "KBOUND_WEIGHT = 0.0001*5\n",
    "KBOUND_LOWER = 0.95\n",
    "LAMBDA_REG = 0.00001 # net weight regulation\n",
    "OPTIMIZER = 'adam'\n",
    "reg_noise_std = 0.03 # random noise regulation\n",
    "\n",
    "\n",
    "downsampler = lambda img: torch_sinc_downsampler_3D(img, factor)"
   ]
  },
  {
   "cell_type": "code",
   "execution_count": 3,
   "id": "2eb7fxFf7q7f",
   "metadata": {
    "colab": {
     "base_uri": "https://localhost:8080/"
    },
    "executionInfo": {
     "elapsed": 2029,
     "status": "ok",
     "timestamp": 1688480511837,
     "user": {
      "displayName": "Cheng-Che Tsai",
      "userId": "06148275036649066160"
     },
     "user_tz": -480
    },
    "id": "2eb7fxFf7q7f",
    "outputId": "d054e563-fce8-48d5-e24b-c53168dbc3f5"
   },
   "outputs": [
    {
     "data": {
      "text/plain": [
       "torch.Size([36, 36, 36])"
      ]
     },
     "execution_count": 3,
     "metadata": {},
     "output_type": "execute_result"
    }
   ],
   "source": [
    "img_HR_np = np.load(configs[\"file\"])\n",
    "img_HR_np = nor(img_HR_np)\n",
    "\n",
    "img_LR_tensor = downsampler(img_HR_np)\n",
    "img_LR_tensor = torch.clamp(img_LR_tensor, min=0.0, max=1.0)\n",
    "\n",
    "# given data\n",
    "imgs = {'orig_np':img_HR_np,\n",
    "        'LR_np': img_LR_tensor.numpy()\n",
    "       }\n",
    "\n",
    "# inputs\n",
    "img_LR_var =  torch.clone(img_LR_tensor).type(dtype)\n",
    "img_LR_kspace = to_k_space(img_LR_var)\n",
    "HR_size = img_HR_np.shape[-1]\n",
    "LR_size = img_LR_var.shape[-1]\n",
    "\n",
    "net_input = get_noise_3d(input_depth, INPUT, (HR_size,HR_size,HR_size)).type(dtype).detach()\n",
    "net_input2 = downsampler(net_input[0][0]).unsqueeze(0).unsqueeze(1)\n",
    "\n",
    "print_log(f'input1 shape: {net_input.shape}')\n",
    "print_log(f'input2 shape: {net_input2.shape}')\n",
    "\n",
    "#net\n",
    "net = UNet3D(in_channels=1, out_channels=1, trilinear=True, conv_residual=True).cuda()"
   ]
  },
  {
   "cell_type": "code",
   "execution_count": 5,
   "id": "d957f8a0",
   "metadata": {},
   "outputs": [],
   "source": [
    "def gen_ksapce_mask(shape, size):\n",
    "    if shape.lower()=='v':\n",
    "        kspace_mask = torch.zeros((size,size,size))\n",
    "        for half_size in range(1, size//2+1):\n",
    "            if half_size ==size:\n",
    "                value = half_size//2\n",
    "            else:\n",
    "                value = half_size\n",
    "            kspace_mask = fill_3D_shell(kspace_mask, half_size, value)\n",
    "\n",
    "        kspace_mask = kspace_mask/kspace_mask.max()\n",
    "    \n",
    "    elif shape.lower()=='u':\n",
    "        kspace_mask = torch.zeros((size,size,size))\n",
    "        mag = np.linspace(0,5,size//2)\n",
    "        kweight = np.power(2, mag)  \n",
    "        for half_size in range(1, size//2+1):\n",
    "            if half_size ==size:\n",
    "                value = kweight[half_size-1]/2\n",
    "            else:\n",
    "                value = kweight[half_size-1]\n",
    "            kspace_mask = fill_3D_shell(kspace_mask, half_size, value)\n",
    "\n",
    "        kspace_mask = kspace_mask/kspace_mask.max()\n",
    "        \n",
    "    elif shape.lower()=='i':\n",
    "        kspace_mask = torch.ones((size,size,size))\n",
    "    return kspace_mask"
   ]
  },
  {
   "cell_type": "code",
   "execution_count": 6,
   "id": "kFItyF_2PJta",
   "metadata": {
    "executionInfo": {
     "elapsed": 558,
     "status": "ok",
     "timestamp": 1688480513039,
     "user": {
      "displayName": "Cheng-Che Tsai",
      "userId": "06148275036649066160"
     },
     "user_tz": -480
    },
    "id": "kFItyF_2PJta"
   },
   "outputs": [],
   "source": [
    "if configs[\"kspace_mse\"] or configs[\"kspace_boundary\"]:\n",
    "    assert configs[\"kspace_mse_shape\"].lower() in ['u','v','i']\n",
    "    \n",
    "    kspace_mask = gen_ksapce_mask(configs[\"kspace_mse_shape\"], LR_size).type(dtype)\n",
    "    kspace_mask2 = central_crop_3D(kspace_mask, factor)\n",
    "    kspace_mask2 = kspace_mask2.type(dtype)\n",
    "\n",
    "    def kspace_loss(z_pred, z_true, kspace_mask=kspace_mask):\n",
    "        z_diff = z_pred - z_true\n",
    "\n",
    "        # Calculate the absolute value of the difference (real, imag) and square each element\n",
    "        z_abs_sq = torch.square(torch.abs(z_diff))\n",
    "        z_abs_sq = z_abs_sq*kspace_mask\n",
    "\n",
    "        # Calculate the mean squared error (MSE) loss in complex number space\n",
    "        mse_loss = torch.mean(z_abs_sq)\n",
    "        return mse_loss\n",
    "\n",
    "\n",
    "def charbonnier_loss(prediction, target, epsilon=1e-6):\n",
    "    error = torch.sqrt((prediction - target)**2 + epsilon**2)\n",
    "    loss = torch.mean(error)\n",
    "    return loss\n",
    "\n",
    "\n",
    "def kboundary_loss_fn(LR_kspace, HR_kspace, factor, kbound_lower):\n",
    "    bd_idx = LR_kspace.shape[-1]\n",
    "    \n",
    "    HR_kspace = HR_kspace/(factor**3)\n",
    "    HR_kspace_abs = torch.abs(HR_kspace)\n",
    "    LR_kspace_abs = torch.abs(LR_kspace)\n",
    "\n",
    "    HR_shell_mean = get_3D_shell(HR_kspace_abs, bd_idx).mean()\n",
    "    LR_shell_mean = get_3D_shell(LR_kspace_abs, bd_idx-1).mean()\n",
    "\n",
    "    # CHANGED TO MSE, FROM L1 LOSS\n",
    "    diff = torch.pow(HR_shell_mean - LR_shell_mean, 2)\n",
    "    first_loss = diff if((HR_shell_mean > 0.99*LR_shell_mean) or (HR_shell_mean < kbound_lower*LR_shell_mean)) else 0\n",
    "    loss = first_loss\n",
    "\n",
    "    return loss, first_loss"
   ]
  },
  {
   "cell_type": "code",
   "execution_count": null,
   "id": "8c6c3d04",
   "metadata": {},
   "outputs": [],
   "source": []
  },
  {
   "cell_type": "code",
   "execution_count": 7,
   "id": "6bf4a6dc",
   "metadata": {
    "executionInfo": {
     "elapsed": 5,
     "status": "ok",
     "timestamp": 1688480513040,
     "user": {
      "displayName": "Cheng-Che Tsai",
      "userId": "06148275036649066160"
     },
     "user_tz": -480
    },
    "id": "6bf4a6dc"
   },
   "outputs": [],
   "source": [
    "def closure():\n",
    "    global i, net_input, net_input2\n",
    "\n",
    "    if reg_noise_std > 0:\n",
    "        net_input = net_input_saved + (noise.normal_() * reg_noise_std)\n",
    "        net_input2 = net_input2_saved + (noise2.normal_() * reg_noise_std)\n",
    "\n",
    "    out_HR = net(net_input)\n",
    "    out_HR_kspace = to_k_space(out_HR[0][0])\n",
    "    out_LR_kspace = central_crop_3D(out_HR_kspace, factor)/(factor**3)\n",
    "    out_LR = inv_fft(out_LR_kspace)\n",
    "    out_LR = torch.clamp(out_LR, min=0.0, max=1.0)\n",
    "\n",
    "    main_loss1 = charbonnier_loss(out_LR, img_LR_var)\n",
    "    total_loss = main_loss1\n",
    "\n",
    "    if configs['double_arm'] == \"True\":\n",
    "        out_HR2 = net(net_input2)\n",
    "        out_HR2 = torch.clamp(out_HR2, min=0.0, max=1.0)\n",
    "        out_HR2_kspace = to_k_space(out_HR2[0][0])\n",
    "        main_loss2 = charbonnier_loss(out_HR2, img_LR_var)\n",
    "        total_loss = total_loss + (TWOARM_RATIO*main_loss2)\n",
    "\n",
    "    # TV loss\n",
    "    if configs['method'] == 'diptv':\n",
    "        tvloss = tv_weight*TVLoss3D(out_HR)\n",
    "        total_loss += tvloss\n",
    "    \n",
    "    # Compute L2 regularization term for the last layer\n",
    "    l2_reg = 0\n",
    "    for param in net.parameters():\n",
    "        l2_reg += torch.norm(param)        \n",
    "    total_loss = total_loss+LAMBDA_REG*l2_reg\n",
    "    \n",
    "    \"\"\"kspace loss\"\"\"\n",
    "    #kspace_mse\n",
    "    if configs[\"kspace_mse\"]:\n",
    "        kspace_mse1 = KSPACE_WEIGHT*kspace_loss(out_LR_kspace, img_LR_kspace)\n",
    "        total_loss = total_loss + kspace_mse1 \n",
    "        \n",
    "        if configs[\"double_arm\"] ==\"True\":\n",
    "            kspace_mse2 = KSPACE_WEIGHT*kspace_loss(out_HR2_kspace, img_LR_kspace)\n",
    "            total_loss = total_loss + (TWOARM_RATIO*kspace_mse2)\n",
    "        \n",
    "    if configs[\"kspace_boundary\"]:\n",
    "        kboundary_total_loss, kboundary_first_loss = kboundary_loss_fn(img_LR_kspace, out_HR_kspace, factor, KBOUND_LOWER)\n",
    "        kspace_boundary_loss = KBOUND_WEIGHT*kboundary_total_loss\n",
    "        total_loss = total_loss + kspace_boundary_loss\n",
    "    total_loss.backward()\n",
    "\n",
    "    if i % 100 == 0:\n",
    "        # kspace_replacement\n",
    "        dip_img = out_HR[0][0].detach().cpu().numpy()\n",
    "        dip_img_central_replacement = central_replacement_3d(imgs['orig_np'], dip_img, factor=factor)\n",
    "\n",
    "        # psnr\n",
    "        psnr_LR = volumetric_psnr(imgs['LR_np'], out_LR)\n",
    "        psnr_HR = volumetric_psnr(imgs['orig_np'], dip_img)\n",
    "        psnr_kr = volumetric_psnr(imgs['orig_np'], dip_img_central_replacement)\n",
    "        ssim_index = compare_ssim(imgs['orig_np'], dip_img, channel_axis=None)\n",
    "        ssim_index_kr = compare_ssim(imgs['orig_np'], dip_img_central_replacement, channel_axis=None)\n",
    "\n",
    "       #1001 newly add \n",
    "        item_list = [(\"Iteration %05d\", i), (\"PSNR_LR %.3f\", psnr_LR), (\"PSNR_HR %.3f\", psnr_HR),\n",
    "             (\"PSNR_KR %.3f\", psnr_kr), (\"SSIM %.3f\", ssim_index), (\"SSIM_KR %.3f\", ssim_index_kr),\n",
    "             (\"Loss %.5f\", total_loss), (\"img_mse %.5f\", main_loss1), \n",
    "             (\"reg_term %.5f\", LAMBDA_REG*l2_reg)]\n",
    "        \n",
    "        if configs[\"double_arm\"] ==\"True\":\n",
    "            psnr_LR2 = volumetric_psnr(imgs['LR_np'], out_HR2[0][0]) #  HR2 is actually at the dimension of LR\n",
    "            item_list += [(\"sec_img_mse %.5f\", TWOARM_RATIO*main_loss2), (\"PSNR_LR2 %.3f\", psnr_LR2)]\n",
    "        \n",
    "        if configs[\"kspace_mse\"]:\n",
    "            item_list += [(\"kspace_mse %.5f\", kspace_mse1)]\n",
    "            if configs[\"double_arm\"]==\"True\":\n",
    "                item_list += [(\"sec_kspace_mse %.5f\", TWOARM_RATIO*kspace_mse2)]\n",
    "                \n",
    "        if configs[\"kspace_boundary\"]:\n",
    "            item_list += [(\"kspace_boundary %.5f\", kspace_boundary_loss)]\n",
    "\n",
    "        output_line = save_info_dict(item_list, info_path=f'{res_dir}/log/info_dict_factor{factor*100}')\n",
    "        print_log(output_line)\n",
    "        \n",
    " \n",
    "        if i>2000:\n",
    "            out_HR_np = torch_to_np(out_HR)\n",
    "            np.save(f'{res_dir}/HR_volume_{i}.npy', out_HR_np[0])\n",
    "        if i%1000 ==0:\n",
    "            torch.save(net.state_dict(), f'{res_dir}/model/epoch{i}_model_weights.pth')\n",
    "    i += 1\n",
    "    return total_loss"
   ]
  },
  {
   "cell_type": "code",
   "execution_count": null,
   "id": "3aa16f3e",
   "metadata": {
    "colab": {
     "base_uri": "https://localhost:8080/",
     "height": 1000
    },
    "executionInfo": {
     "elapsed": 7990505,
     "status": "error",
     "timestamp": 1688488503541,
     "user": {
      "displayName": "Cheng-Che Tsai",
      "userId": "06148275036649066160"
     },
     "user_tz": -480
    },
    "id": "3aa16f3e",
    "outputId": "2a9ee497-beb0-439b-f5d7-3a5dc2940f18",
    "scrolled": true
   },
   "outputs": [
    {
     "name": "stdout",
     "output_type": "stream",
     "text": [
      "Starting optimization with ADAM\n"
     ]
    },
    {
     "name": "stderr",
     "output_type": "stream",
     "text": [
      "/tmp/ipykernel_2713766/813515475.py:58: UserWarning: Inputs have mismatched dtype.  Setting data_range based on im1.dtype.\n",
      "  ssim_index = compare_ssim(imgs['orig_np'], dip_img, channel_axis=None)\n",
      "/tmp/ipykernel_2713766/813515475.py:59: UserWarning: Inputs have mismatched dtype.  Setting data_range based on im1.dtype.\n",
      "  ssim_index_kr = compare_ssim(imgs['orig_np'], dip_img_central_replacement, channel_axis=None)\n"
     ]
    },
    {
     "name": "stdout",
     "output_type": "stream",
     "text": [
      "Iteration 00000  PSNR_LR 6.387  PSNR_HR 6.917  PSNR_KR 33.519  SSIM 0.071  SSIM_KR 0.920  Loss 0.58058  img_mse 0.44578  reg_term 0.00146  sec_img_mse 0.08530  PSNR_LR2 6.874  kspace_mse 0.04034  sec_kspace_mse 0.00770  \n",
      "Iteration 00100  PSNR_LR 12.359  PSNR_HR 12.900  PSNR_KR 37.406  SSIM 0.196  SSIM_KR 0.975  Loss 0.27173  img_mse 0.21721  reg_term 0.00146  sec_img_mse 0.04251  PSNR_LR2 12.758  kspace_mse 0.00869  sec_kspace_mse 0.00186  \n",
      "Iteration 00200  PSNR_LR 13.939  PSNR_HR 14.459  PSNR_KR 37.650  SSIM 0.218  SSIM_KR 0.977  Loss 0.22370  img_mse 0.18002  reg_term 0.00145  sec_img_mse 0.03506  PSNR_LR2 14.315  kspace_mse 0.00592  sec_kspace_mse 0.00124  \n",
      "Iteration 00300  PSNR_LR 15.439  PSNR_HR 15.940  PSNR_KR 37.482  SSIM 0.238  SSIM_KR 0.978  Loss 0.18703  img_mse 0.15104  reg_term 0.00145  sec_img_mse 0.02938  PSNR_LR2 15.771  kspace_mse 0.00425  sec_kspace_mse 0.00091  \n",
      "Iteration 00400  PSNR_LR 16.819  PSNR_HR 17.298  PSNR_KR 37.202  SSIM 0.258  SSIM_KR 0.977  Loss 0.15763  img_mse 0.12757  reg_term 0.00145  sec_img_mse 0.02483  PSNR_LR2 17.166  kspace_mse 0.00311  sec_kspace_mse 0.00067  \n",
      "Iteration 00500  PSNR_LR 18.161  PSNR_HR 18.654  PSNR_KR 37.233  SSIM 0.280  SSIM_KR 0.977  Loss 0.13344  img_mse 0.10813  reg_term 0.00144  sec_img_mse 0.02107  PSNR_LR2 18.488  kspace_mse 0.00228  sec_kspace_mse 0.00051  \n",
      "Iteration 00600  PSNR_LR 19.469  PSNR_HR 19.931  PSNR_KR 37.292  SSIM 0.304  SSIM_KR 0.977  Loss 0.11473  img_mse 0.09303  reg_term 0.00144  sec_img_mse 0.01814  PSNR_LR2 19.836  kspace_mse 0.00172  sec_kspace_mse 0.00040  \n",
      "Iteration 00700  PSNR_LR 20.755  PSNR_HR 21.177  PSNR_KR 36.940  SSIM 0.330  SSIM_KR 0.976  Loss 0.09775  img_mse 0.07924  reg_term 0.00144  sec_img_mse 0.01545  PSNR_LR2 21.170  kspace_mse 0.00132  sec_kspace_mse 0.00031  \n",
      "Iteration 00800  PSNR_LR 21.982  PSNR_HR 22.369  PSNR_KR 36.959  SSIM 0.357  SSIM_KR 0.976  Loss 0.08424  img_mse 0.06820  reg_term 0.00144  sec_img_mse 0.01333  PSNR_LR2 22.447  kspace_mse 0.00103  sec_kspace_mse 0.00025  \n"
     ]
    }
   ],
   "source": [
    "net_input_saved = net_input.detach().clone()\n",
    "net_input2_saved = net_input2.detach().clone()\n",
    "noise = net_input.detach().clone()\n",
    "noise2 = net_input2.detach().clone()\n",
    "\n",
    "i = 0\n",
    "p = get_params(OPT_OVER, net, net_input)\n",
    "optimize(OPTIMIZER, p, closure, LR, configs['num_iter'])"
   ]
  }
 ],
 "metadata": {
  "accelerator": "GPU",
  "colab": {
   "gpuClass": "premium",
   "machine_shape": "hm",
   "provenance": [
    {
     "file_id": "13iyaFx8etnFRHZv0bCjk3aN3mXVPPn0J",
     "timestamp": 1688480445459
    },
    {
     "file_id": "105N2Ws1HRPedH29X3sa3f-n8CuGfYQ43",
     "timestamp": 1688479969222
    },
    {
     "file_id": "1uHKG_Q7ENjhcp8sUtHs5nQeZbWWF0D1n",
     "timestamp": 1688283748542
    },
    {
     "file_id": "1ObIlU5aM4yCoKBfq9_rKaSWWgsnJJo9O",
     "timestamp": 1688283274320
    },
    {
     "file_id": "1ET8tEnykIssaG1CyEOJQnzj234dIQos_",
     "timestamp": 1688218636580
    },
    {
     "file_id": "1I52Hk_EAtdi6hhifSJa5n9Oyuw3uIXlg",
     "timestamp": 1688212408983
    },
    {
     "file_id": "1d0zDomofIuN_mKHs1ndxeXkRF2sxigeq",
     "timestamp": 1688211917695
    },
    {
     "file_id": "1WsG-N2VdgPflRMBWMYUleXrZT6FfIW3u",
     "timestamp": 1687765562594
    },
    {
     "file_id": "1ihehHAAB5tDEHUWjhwWeVFifTAh1me2S",
     "timestamp": 1687765015540
    },
    {
     "file_id": "1v4Tx2Rvqfjt4-JIjJ1Gf2niTfqcwO-Af",
     "timestamp": 1686984620725
    },
    {
     "file_id": "168e2Pkv7uhL2vXfrRbqKmiHK2-16RBCB",
     "timestamp": 1686666612660
    },
    {
     "file_id": "1j57YXXgZY1EXtQuoZlqvapdpM2z0MhSu",
     "timestamp": 1686665691741
    },
    {
     "file_id": "18lTtU4yX6-23P0ag7vse04pBkLkWaabl",
     "timestamp": 1686388188197
    },
    {
     "file_id": "19xP80tLbspBV0oFIzMN-5cM3VV4yRxIz",
     "timestamp": 1686061449809
    },
    {
     "file_id": "1sT_Jrvv1vxCHvPcFgmJucR12_yD7OFHd",
     "timestamp": 1686059199201
    },
    {
     "file_id": "1rT9xpjivF-L81Tu6syn0G7wUJ6ULzVTW",
     "timestamp": 1686059027283
    },
    {
     "file_id": "1TiGnlauw_VOBEHilT8Z8xi3Y37nm2Qhh",
     "timestamp": 1685186560060
    },
    {
     "file_id": "1Rmc-b35IufBOH4oPSR3xOvDiREbmh__B",
     "timestamp": 1684852886729
    },
    {
     "file_id": "1-orxQ23qZgYfToP3j9nHnwrwp9U7OHBi",
     "timestamp": 1684844183585
    },
    {
     "file_id": "1dJ8a8tRnFg-RBn9KbtlWgNZbvh5iC8Ts",
     "timestamp": 1684587551960
    },
    {
     "file_id": "1QQObuL6tL3qIqwIOsph0UoKqhQlKNtxw",
     "timestamp": 1684587026619
    },
    {
     "file_id": "1Ar6vTBC3sU8EBd4LLAeuN0OjdjgYzA0l",
     "timestamp": 1684258663461
    },
    {
     "file_id": "1NIORZmPCMR17kzs-3xvKGnIfgna9f7ue",
     "timestamp": 1684257172927
    },
    {
     "file_id": "1KnGKYG5kvDbt_dhBfgpR_ltciHPeiBd3",
     "timestamp": 1684255896415
    },
    {
     "file_id": "1FEImuoJDFRuYt68b6WWaCd6xtuVrIuzS",
     "timestamp": 1683647081896
    },
    {
     "file_id": "1YpAsBWhr8khZFpOsOUclHkpOL7tfBPed",
     "timestamp": 1682389442709
    },
    {
     "file_id": "1x3XYSzMki93XfuPsqTX0LwtLQLQYSViR",
     "timestamp": 1682368199937
    },
    {
     "file_id": "1BgZvX4mQuDRTZ74tHjEzUqW6boA8slK8",
     "timestamp": 1682364346059
    },
    {
     "file_id": "1YFrhpTicjW_kw8aXam8pY2yGXcgN33Da",
     "timestamp": 1680622463520
    },
    {
     "file_id": "1xPSrJcqJeqZ2HTEFt9hbe8Y8zuDEa2Jq",
     "timestamp": 1680011001642
    },
    {
     "file_id": "1NRmvLhfpyPxxkd2b0m2Tsb4wHWQQGNg4",
     "timestamp": 1678913339931
    },
    {
     "file_id": "1nAmUpUcTlECdQB22-IPxszZIImQXQnWe",
     "timestamp": 1678912432807
    },
    {
     "file_id": "163h9233D9R-1uHZKZv2ALYOeUpWL4Gzr",
     "timestamp": 1678893406962
    },
    {
     "file_id": "1tuUe0AkGuLTd2x_n3aolXi2j6lozBGKP",
     "timestamp": 1678674535665
    }
   ]
  },
  "gpuClass": "premium",
  "kernelspec": {
   "display_name": "Python 3 (ipykernel)",
   "language": "python",
   "name": "python3"
  },
  "language_info": {
   "codemirror_mode": {
    "name": "ipython",
    "version": 3
   },
   "file_extension": ".py",
   "mimetype": "text/x-python",
   "name": "python",
   "nbconvert_exporter": "python",
   "pygments_lexer": "ipython3",
   "version": "3.10.9"
  }
 },
 "nbformat": 4,
 "nbformat_minor": 5
}
