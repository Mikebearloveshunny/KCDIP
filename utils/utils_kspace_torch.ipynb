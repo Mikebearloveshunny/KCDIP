{
 "cells": [
  {
   "cell_type": "code",
   "execution_count": null,
   "metadata": {
    "id": "GkY4UuKh279N"
   },
   "outputs": [],
   "source": [
    "def get_kspaceImg(arr, adjust=1):\n",
    "    kspace = to_k_space(arr)\n",
    "    return 20*torch.log(torch.abs((kspace+1)*adjust))\n",
    "\n",
    "def get_2D_shell(arr, half_size_of_the_shell):\n",
    "    if arr.shape[-1]%2 !=0:\n",
    "        raise ValueError(\"Shape error\")\n",
    "\n",
    "    c = arr.shape[-1]//2\n",
    "    half_size = half_size_of_the_shell\n",
    "\n",
    "    #compute\n",
    "    right = arr[c-half_size:c+half_size, c-half_size]\n",
    "    left = arr[c-half_size:c+half_size, c+half_size-1]\n",
    "    up = arr[c-half_size, (c-half_size+1):(c+half_size-1)]\n",
    "    down = arr[c+half_size-1, (c-half_size+1):(c+half_size-1)]\n",
    "\n",
    "    layer_values = torch.cat([up, down, left, right])\n",
    "    #print(up, down, left, right)\n",
    "    #print(layer_values.shape, layer_values.mean())\n",
    "    return layer_values\n",
    "\n",
    "#new version speed: 6.09 ms ± 83.7 µs per loop (mean ± std. dev. of 7 runs, 100 loops each)\n",
    "#old version speed: 90.5 ms ± 1.02 ms per loop (mean ± std. dev. of 7 runs, 10 loops each)\n",
    "def get_3D_shell(arr, half_size_of_the_shell):\n",
    "    if arr.shape[-1]%2 !=0:\n",
    "        raise ValueError(\"Shape error\")\n",
    "\n",
    "    c = arr.shape[-1]//2\n",
    "    half_size = half_size_of_the_shell\n",
    "\n",
    "    #compute\n",
    "    # c-half_size; role: touch the walls\n",
    "    # c-half_size:c+half_size; role: span\n",
    "    # c-half_size+1:c+half_size-1; role of +1 & -1: avoid counting the same elements\n",
    "\n",
    "    left = arr[c-half_size, c-half_size:c+half_size, c-half_size:c+half_size]\n",
    "    right = arr[c+half_size-1, c-half_size:c+half_size, c-half_size:c+half_size]\n",
    "\n",
    "    up = arr[c-half_size+1:c+half_size-1, c+half_size-1, c-half_size:c+half_size]\n",
    "    down = arr[c-half_size+1:c+half_size-1, c+half_size-1, c-half_size:c+half_size]\n",
    "\n",
    "    front = arr[c-half_size+1:c+half_size-1, c-half_size+1:c+half_size-1, c-half_size+1:c+half_size-1]\n",
    "    back = arr[c-half_size+1:c+half_size-1, c-half_size+1:c+half_size-1, c-half_size+1:c+half_size-1]\n",
    "\n",
    "    #sub inner rings\n",
    "    all_shell_values = torch.cat([left.ravel(), right.ravel(),\n",
    "                                  up.ravel(), down.ravel(),\n",
    "                                  front.ravel(), back.ravel()])\n",
    "    return all_shell_values\n",
    "\n",
    "from tqdm import tqdm\n",
    "def get_all_3D_shell_values(arr, shell_range=None):\n",
    "    kspace_shell_values = []\n",
    "\n",
    "    if shell_range==None:\n",
    "        shell_range = range(1, arr.shape[-1]//2+1)\n",
    "\n",
    "    for half_size in shell_range:\n",
    "        cubic_shell_values = get_3D_shell(arr, half_size)\n",
    "        kspace_shell_values.append(cubic_shell_values)\n",
    "    return kspace_shell_values"
   ]
  },
  {
   "cell_type": "code",
   "execution_count": null,
   "metadata": {
    "id": "Ep2Jma58Qg9k"
   },
   "outputs": [],
   "source": [
    "def fill_2D_shell(arr, half_size_of_the_shell, fill_value):\n",
    "    if arr.shape[-1]%2 !=0:\n",
    "        raise ValueError(\"Shape error\")\n",
    "\n",
    "    c = arr.shape[-1]//2\n",
    "    half_size = half_size_of_the_shell\n",
    "\n",
    "    #compute\n",
    "    arr[c-half_size:c+half_size, c-half_size] = fill_value #right\n",
    "    arr[c-half_size:c+half_size, c+half_size-1] = fill_value #left\n",
    "    arr[c-half_size, (c-half_size+1):(c+half_size-1)] = fill_value #up\n",
    "    arr[c+half_size-1, (c-half_size+1):(c+half_size-1)] = fill_value #down\n",
    "    return arr\n",
    "\n",
    "def fill_3D_shell(arr, half_size_of_the_shell, fill_value):\n",
    "    if arr.shape[-1]%2 !=0:\n",
    "        raise ValueError(\"Shape error\")\n",
    "\n",
    "    c = arr.shape[-1]//2\n",
    "    half_size = half_size_of_the_shell\n",
    "\n",
    "    #compute\n",
    "    #side_wall_left\n",
    "    arr[c-half_size, c-half_size:c+half_size, c-half_size:c+half_size] = fill_value\n",
    "    #side_wall_right\n",
    "    arr[c+half_size-1, c-half_size:c+half_size, c-half_size:c+half_size] = fill_value\n",
    "\n",
    "    #sub inner rings\n",
    "    sub_start, sub_end = c-half_size+1, c+half_size-1\n",
    "    if sub_start ==sub_end:\n",
    "        pass\n",
    "    else:\n",
    "        for sub in range(sub_start, sub_end):\n",
    "            arr[sub, :, :] = fill_2D_shell(arr[sub, :, :], half_size, fill_value)\n",
    "    return arr"
   ]
  },
  {
   "cell_type": "code",
   "execution_count": null,
   "metadata": {
    "id": "kGVwjU0UioA2"
   },
   "outputs": [],
   "source": [
    "import torch\n",
    "import torch.nn.functional as F\n",
    "\n",
    "def complex_log(complex_number):\n",
    "    magnitude = torch.abs(complex_number)\n",
    "    log_magnitude = torch.log(magnitude+0.01)\n",
    "\n",
    "    # Combine the real and imaginary parts with the logarithm of the magnitude\n",
    "    log_complex_number = torch.complex(log_magnitude, torch.angle(complex_number))\n",
    "    return log_complex_number"
   ]
  },
  {
   "cell_type": "code",
   "execution_count": null,
   "metadata": {
    "id": "QxinsqtJLwh3"
   },
   "outputs": [],
   "source": []
  },
  {
   "cell_type": "code",
   "execution_count": null,
   "metadata": {
    "id": "CiaV_OXOLwpQ"
   },
   "outputs": [],
   "source": [
    "'''old version\n",
    "def get_3D_shell(arr, half_size_of_the_shell):\n",
    "    if arr.shape[-1]%2 !=0:\n",
    "        raise ValueError(\"Shape error\")\n",
    "\n",
    "    c = arr.shape[-1]//2\n",
    "    half_size = half_size_of_the_shell\n",
    "\n",
    "    #compute\n",
    "    side_wall_left = arr[c-half_size, c-half_size:c+half_size, c-half_size:c+half_size]\n",
    "    side_wall_right = arr[c+half_size-1, c-half_size:c+half_size, c-half_size:c+half_size]\n",
    "\n",
    "    #sub inner rings\n",
    "    sub_start, sub_end = c-half_size+1, c+half_size-1\n",
    "    sub_shell_values = []\n",
    "    for sub in range(sub_start, sub_end):\n",
    "        sub_arr = arr[sub, :, :]\n",
    "        shell_values = get_2D_shell(sub_arr, half_size)\n",
    "        sub_shell_values.append(shell_values)\n",
    "\n",
    "    if sub_start !=sub_end:\n",
    "        sub_shell_values = torch.cat(sub_shell_values)\n",
    "    else:\n",
    "        sub_shell_values = torch.tensor([]).cuda()\n",
    "    all_shell_values = torch.cat([sub_shell_values, side_wall_left.ravel(), side_wall_right.ravel()])\n",
    "    return all_shell_values\n",
    "'''"
   ]
  }
 ],
 "metadata": {
  "colab": {
   "authorship_tag": "ABX9TyPTEI6XX/nLVPxyATWYJRIn",
   "provenance": [
    {
     "file_id": "1cu0FWQYa_ZpYocuaiIJVNtPyyRgmtxEk",
     "timestamp": 1684582272022
    }
   ]
  },
  "kernelspec": {
   "display_name": "Python 3 (ipykernel)",
   "language": "python",
   "name": "python3"
  },
  "language_info": {
   "codemirror_mode": {
    "name": "ipython",
    "version": 3
   },
   "file_extension": ".py",
   "mimetype": "text/x-python",
   "name": "python",
   "nbconvert_exporter": "python",
   "pygments_lexer": "ipython3",
   "version": "3.9.7"
  }
 },
 "nbformat": 4,
 "nbformat_minor": 1
}
