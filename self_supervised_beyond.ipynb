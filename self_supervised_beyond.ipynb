{
 "cells": [
  {
   "cell_type": "code",
   "execution_count": 1,
   "id": "c8876034",
   "metadata": {
    "colab": {
     "base_uri": "https://localhost:8080/"
    },
    "executionInfo": {
     "elapsed": 28535,
     "status": "ok",
     "timestamp": 1688480509811,
     "user": {
      "displayName": "Cheng-Che Tsai",
      "userId": "06148275036649066160"
     },
     "user_tz": -480
    },
    "id": "c8876034",
    "outputId": "8b8d3e3d-61da-4de1-cf61-3d38b3f244fb"
   },
   "outputs": [
    {
     "name": "stdout",
     "output_type": "stream",
     "text": [
      "Task name: 357_T1w_MPR_NORM_3, factor=2.0\n",
      "file: /work/users/c/c/cctsai/data/BCP_sample/357_T1w_MPR_NORM_3.npy\n",
      "factor: 2\n",
      "model_folder: dev_mode\n",
      "input_img: False\n"
     ]
    }
   ],
   "source": [
    "DEV_MODE = False\n",
    "\n",
    "if DEV_MODE:\n",
    "    class TestArg():\n",
    "        def __init__(self, factor):\n",
    "            self.file = \"/work/users/c/c/cctsai/data/BCP_sample/357_T1w_MPR_NORM_3.npy\"\n",
    "            self.factor = factor\n",
    "            self.model_folder = \"dev_mode\"\n",
    "            self.input_img = False\n",
    "    print(\"It's dev mode!!!!!!\")\n",
    "    print(\"It's dev mode!!!!!!\")\n",
    "    print(\"It's dev mode!!!!!!\")\n",
    "    args = TestArg(factor=2)\n",
    "else:\n",
    "    from argparse import ArgumentParser\n",
    "    parser = ArgumentParser()\n",
    "    parser.add_argument(\"--file\")\n",
    "    parser.add_argument(\"--factor\")\n",
    "    \n",
    "    #basic config\n",
    "    parser.add_argument(\"--model_folder\")\n",
    "    parser.add_argument(\"--input_img\", action=\"store_true\", default=False)\n",
    "    parser.add_argument(\"--double_arm\", default=\"False\")\n",
    "        \n",
    "    args = parser.parse_args()\n",
    "    \n",
    "_name_ = args.file.split(\"/\")[-1].split(\".\")[0]\n",
    "model_folder = args.model_folder\n",
    "\n",
    "factor = float(args.factor)  #1.25, 1.5, 1.75, 2    \n",
    "    \n",
    "import os, sys, glob\n",
    "sys.path.append(\"./utils\")\n",
    "res_dir = f\"/work/users/c/c/cctsai/res/{model_folder}/{_name_}/{int(factor*100)}\"\n",
    "\n",
    "import numpy as np\n",
    "import torch\n",
    "import torch.optim\n",
    "import torch.nn.functional as F\n",
    "from utils_unet3D_ver3 import *\n",
    "from utils_kspace_torch import *\n",
    "from utils.models import *\n",
    "from utils.prep import *\n",
    "from utils.sr_common import *\n",
    "\n",
    "from skimage.metrics import peak_signal_noise_ratio as compare_psnr\n",
    "from skimage.metrics import structural_similarity as compare_ssim\n",
    "\n",
    "torch.backends.cudnn.enabled = True\n",
    "torch.backends.cudnn.benchmark =True\n",
    "dtype = torch.cuda.FloatTensor\n",
    "os.environ['KMP_DUPLICATE_LIB_OK'] = 'TRUE'\n",
    "\n",
    "for new_dir in [res_dir, f\"{res_dir}/model\", f\"{res_dir}/log\"]:\n",
    "    if not os.path.exists(new_dir):\n",
    "        os.makedirs(new_dir)\n",
    "\n",
    "import datetime\n",
    "current_time = datetime.datetime.now().time()\n",
    "print_log = lambda msg: write_log(msg, f'{res_dir}/log/age{_name_}_factor{factor*100}_{current_time}.txt') # from prep.py\n",
    "\n",
    "print_log(f\"Task name: {_name_}, factor={factor}\")\n",
    "\n",
    "# save the argument in the output txt\n",
    "arguments_dict = vars(args)\n",
    "arguments_string = \"\\n\".join([f\"{key}: {value}\" for key, value in arguments_dict.items()])\n",
    "print_log(arguments_string)"
   ]
  },
  {
   "cell_type": "code",
   "execution_count": 2,
   "id": "ec5857f4",
   "metadata": {},
   "outputs": [],
   "source": [
    "modality = 'T1'\n",
    "\n",
    "input_depth = 1\n",
    "INPUT =     'noise'\n",
    "OPT_OVER =  'net'\n",
    "\n",
    "LR = 0.0001\n",
    "lambda_reg = 0.00001\n",
    "OPTIMIZER = 'adam'\n",
    "\n",
    "num_iter = 10000\n",
    "reg_noise_std = 0\n",
    "\n",
    "downsampler = lambda img: torch_sinc_downsampler_3D(img, factor)\n",
    "# downsampler2 = lambda img: torch_sinc_downsampler_3D(img, factor*factor)"
   ]
  },
  {
   "cell_type": "code",
   "execution_count": 3,
   "id": "2eb7fxFf7q7f",
   "metadata": {
    "colab": {
     "base_uri": "https://localhost:8080/"
    },
    "executionInfo": {
     "elapsed": 2029,
     "status": "ok",
     "timestamp": 1688480511837,
     "user": {
      "displayName": "Cheng-Che Tsai",
      "userId": "06148275036649066160"
     },
     "user_tz": -480
    },
    "id": "2eb7fxFf7q7f",
    "outputId": "d054e563-fce8-48d5-e24b-c53168dbc3f5"
   },
   "outputs": [],
   "source": [
    "def chop_cube(arr):\n",
    "    off=48\n",
    "    return arr[off:-off, off:-off, off:-off]\n",
    "\n",
    "img_HR_np = np.load(args.file)\n",
    "img_HR_np = chop_cube(img_HR_np)\n",
    "img_HR_np = nor(img_HR_np) \n",
    "\n",
    "# \n",
    "img_LR_tensor = downsampler(img_HR_np)\n",
    "img_LR_tensor = torch.clamp(img_LR_tensor, min=0.0, max=1.0)\n",
    "\n",
    "# img_LR2_tensor = downsampler2(img_HR_np)\n",
    "# img_LR2_tensor = torch.clamp(img_LR2_tensor, min=0.0, max=1.0)\n",
    "\n",
    "# imgs = {'orig_np':img_HR_np,\n",
    "#         'LR_np': img_LR_tensor.numpy()\n",
    "#        }\n",
    "\n",
    "# image kspace\n",
    "img_HR_var =  torch.from_numpy(img_HR_np).type(dtype)\n",
    "img_HR_input = torch.clone(img_HR_var).unsqueeze(0).unsqueeze(0).type(dtype)\n",
    "# img_HR_kspace = to_k_space(img_HR_var)\n",
    "\n",
    "net_input = torch.clone(img_LR_tensor).unsqueeze(0).unsqueeze(0).type(dtype)\n",
    "\n",
    "# img_LR_var =  torch.clone(img_LR_tensor).type(dtype)\n",
    "# net_input = torch.clone(img_LR2_tensor).unsqueeze(0).unsqueeze(0).type(dtype)\n",
    "# print_log(f'input shape: {net_input.shape}')"
   ]
  },
  {
   "cell_type": "code",
   "execution_count": 4,
   "id": "e67bee96",
   "metadata": {},
   "outputs": [],
   "source": [
    "net = asym_UNet3D(in_channels=input_depth, out_channels=1, trilinear=True, factor=factor).cuda()\n",
    "MSE = torch.nn.MSELoss()"
   ]
  },
  {
   "cell_type": "code",
   "execution_count": 5,
   "id": "6bf4a6dc",
   "metadata": {
    "executionInfo": {
     "elapsed": 5,
     "status": "ok",
     "timestamp": 1688480513040,
     "user": {
      "displayName": "Cheng-Che Tsai",
      "userId": "06148275036649066160"
     },
     "user_tz": -480
    },
    "id": "6bf4a6dc"
   },
   "outputs": [],
   "source": [
    "def closure():\n",
    "    global i, net_input\n",
    "    net_input = net_input_saved + (noise.normal_() * reg_noise_std)\n",
    "    \n",
    "    output_HR = net(net_input) # from LR to HR\n",
    "    main_loss1 = MSE(output_HR[0,0], img_HR_var)\n",
    "    \n",
    "    l2_reg = 0\n",
    "    for param in net.parameters():\n",
    "        l2_reg += torch.norm(param)\n",
    "    \n",
    "    # losses\n",
    "    total_loss = main_loss1+lambda_reg*l2_reg\n",
    "    total_loss.backward()\n",
    "    \n",
    "    if i % 100 == 0:\n",
    "        # kspace_replacement\n",
    "        out_SR = net(img_HR_input)\n",
    "        \n",
    "#         dip_img = torch2np(out_SR[0][0])\n",
    "#         dip_img_central_replacement = central_replacement_3d(imgs['orig_np'], dip_img, factor=factor)\n",
    "\n",
    "        # psnr\n",
    "        psnr_SS = volumetric_psnr(img_HR_np, output_HR[0,0]) #SS: self-supervised\n",
    "#         psnr_HR = volumetric_psnr(imgs['orig_np'], dip_img)\n",
    "#         psnr_kr = volumetric_psnr(imgs['orig_np'], dip_img_central_replacement)\n",
    "#         ssim_index = compare_ssim(imgs['orig_np'], dip_img, channel_axis=None)\n",
    "#         ssim_index_kr = compare_ssim(imgs['orig_np'], dip_img_central_replacement, channel_axis=None)\n",
    "\n",
    "       #1001 newly add \n",
    "        item_list = [(\"Iteration %05d\", i), (\"PSNR_SS %.3f\", psnr_SS), \n",
    "                     (\"Loss %.5f\", total_loss), (\"img_mse %.5f\", main_loss1), \n",
    "                     (\"reg_term %.5f\", lambda_reg*l2_reg)]\n",
    "\n",
    "        output_line = save_info_dict(item_list, info_path=f'{res_dir}/log/info_dict_factor{factor*100}')\n",
    "        print_log(output_line)\n",
    "        \n",
    "#         print_log('Iteration %05d  PSNR_LR %.3f  PSNR_HR %.3f  PSNR_KR %.3f | SSIM %.3f  SSIM_KR %.3f | Loss %.5f  Img_mse %.5f  kspace_mse %.5f  kspace_boundary %.5f' % \n",
    "#                   (i, psnr_LR, psnr_HR, psnr_kr, ssim_index, ssim_index_kr, total_loss, main_loss1, kspace_mse1, kspace_boundary_loss))\n",
    "        \n",
    "        if i>2000:\n",
    "            out_SR_np = torch2np(out_SR)[0,0]\n",
    "            np.save(f'{res_dir}/SR_volume_{i}.npy', out_SR_np)\n",
    "            \n",
    "        if i%1000 ==0:\n",
    "            torch.save(net.state_dict(), f'{res_dir}/model/epoch{i}_model_weights.pth')\n",
    "    i += 1\n",
    "    return total_loss"
   ]
  },
  {
   "cell_type": "code",
   "execution_count": 6,
   "id": "3aa16f3e",
   "metadata": {
    "colab": {
     "base_uri": "https://localhost:8080/",
     "height": 1000
    },
    "executionInfo": {
     "elapsed": 7990505,
     "status": "error",
     "timestamp": 1688488503541,
     "user": {
      "displayName": "Cheng-Che Tsai",
      "userId": "06148275036649066160"
     },
     "user_tz": -480
    },
    "id": "3aa16f3e",
    "outputId": "2a9ee497-beb0-439b-f5d7-3a5dc2940f18",
    "scrolled": false
   },
   "outputs": [
    {
     "name": "stdout",
     "output_type": "stream",
     "text": [
      "Starting optimization with ADAM\n",
      "Iteration 00000  PSNR_SS 10.655  Loss 0.08840  img_mse 0.08693  reg_term 0.00147  \n",
      "Iteration 00100  PSNR_SS 14.273  Loss 0.04245  img_mse 0.04049  reg_term 0.00196  \n",
      "Iteration 00200  PSNR_SS 14.274  Loss 0.04231  img_mse 0.04041  reg_term 0.00190  \n",
      "Iteration 00300  PSNR_SS 14.274  Loss 0.04222  img_mse 0.04038  reg_term 0.00184  \n",
      "Iteration 00400  PSNR_SS 14.275  Loss 0.04214  img_mse 0.04036  reg_term 0.00178  \n",
      "Iteration 00500  PSNR_SS 14.275  Loss 0.04208  img_mse 0.04037  reg_term 0.00172  \n",
      "Iteration 00600  PSNR_SS 14.275  Loss 0.04200  img_mse 0.04035  reg_term 0.00165  \n"
     ]
    },
    {
     "ename": "KeyboardInterrupt",
     "evalue": "",
     "output_type": "error",
     "traceback": [
      "\u001b[0;31m---------------------------------------------------------------------------\u001b[0m",
      "\u001b[0;31mKeyboardInterrupt\u001b[0m                         Traceback (most recent call last)",
      "\u001b[0;32m/tmp/ipykernel_41530/2437815331.py\u001b[0m in \u001b[0;36m<module>\u001b[0;34m\u001b[0m\n\u001b[1;32m      8\u001b[0m \u001b[0mi\u001b[0m \u001b[0;34m=\u001b[0m \u001b[0;36m0\u001b[0m\u001b[0;34m\u001b[0m\u001b[0;34m\u001b[0m\u001b[0m\n\u001b[1;32m      9\u001b[0m \u001b[0mp\u001b[0m \u001b[0;34m=\u001b[0m \u001b[0mget_params\u001b[0m\u001b[0;34m(\u001b[0m\u001b[0mOPT_OVER\u001b[0m\u001b[0;34m,\u001b[0m \u001b[0mnet\u001b[0m\u001b[0;34m,\u001b[0m \u001b[0mnet_input\u001b[0m\u001b[0;34m)\u001b[0m\u001b[0;34m\u001b[0m\u001b[0;34m\u001b[0m\u001b[0m\n\u001b[0;32m---> 10\u001b[0;31m \u001b[0moptimize\u001b[0m\u001b[0;34m(\u001b[0m\u001b[0mOPTIMIZER\u001b[0m\u001b[0;34m,\u001b[0m \u001b[0mp\u001b[0m\u001b[0;34m,\u001b[0m \u001b[0mclosure\u001b[0m\u001b[0;34m,\u001b[0m \u001b[0mLR\u001b[0m\u001b[0;34m,\u001b[0m \u001b[0mnum_iter\u001b[0m\u001b[0;34m)\u001b[0m\u001b[0;34m\u001b[0m\u001b[0;34m\u001b[0m\u001b[0m\n\u001b[0m",
      "\u001b[0;32m~/proj_dip/utils/sr_common.py\u001b[0m in \u001b[0;36moptimize\u001b[0;34m(optimizer_type, parameters, closure, LR, num_iter)\u001b[0m\n\u001b[1;32m     64\u001b[0m         \u001b[0;32mfor\u001b[0m \u001b[0mj\u001b[0m \u001b[0;32min\u001b[0m \u001b[0mrange\u001b[0m\u001b[0;34m(\u001b[0m\u001b[0mnum_iter\u001b[0m\u001b[0;34m)\u001b[0m\u001b[0;34m:\u001b[0m\u001b[0;34m\u001b[0m\u001b[0;34m\u001b[0m\u001b[0m\n\u001b[1;32m     65\u001b[0m             \u001b[0moptimizer\u001b[0m\u001b[0;34m.\u001b[0m\u001b[0mzero_grad\u001b[0m\u001b[0;34m(\u001b[0m\u001b[0;34m)\u001b[0m\u001b[0;34m\u001b[0m\u001b[0;34m\u001b[0m\u001b[0m\n\u001b[0;32m---> 66\u001b[0;31m             \u001b[0mclosure\u001b[0m\u001b[0;34m(\u001b[0m\u001b[0;34m)\u001b[0m\u001b[0;34m\u001b[0m\u001b[0;34m\u001b[0m\u001b[0m\n\u001b[0m\u001b[1;32m     67\u001b[0m             \u001b[0moptimizer\u001b[0m\u001b[0;34m.\u001b[0m\u001b[0mstep\u001b[0m\u001b[0;34m(\u001b[0m\u001b[0;34m)\u001b[0m\u001b[0;34m\u001b[0m\u001b[0;34m\u001b[0m\u001b[0m\n\u001b[1;32m     68\u001b[0m     \u001b[0;32melse\u001b[0m\u001b[0;34m:\u001b[0m\u001b[0;34m\u001b[0m\u001b[0;34m\u001b[0m\u001b[0m\n",
      "\u001b[0;32m/tmp/ipykernel_41530/2126551098.py\u001b[0m in \u001b[0;36mclosure\u001b[0;34m()\u001b[0m\n\u001b[1;32m     12\u001b[0m     \u001b[0;31m# losses\u001b[0m\u001b[0;34m\u001b[0m\u001b[0;34m\u001b[0m\u001b[0m\n\u001b[1;32m     13\u001b[0m     \u001b[0mtotal_loss\u001b[0m \u001b[0;34m=\u001b[0m \u001b[0mmain_loss1\u001b[0m\u001b[0;34m+\u001b[0m\u001b[0mlambda_reg\u001b[0m\u001b[0;34m*\u001b[0m\u001b[0ml2_reg\u001b[0m\u001b[0;34m\u001b[0m\u001b[0;34m\u001b[0m\u001b[0m\n\u001b[0;32m---> 14\u001b[0;31m     \u001b[0mtotal_loss\u001b[0m\u001b[0;34m.\u001b[0m\u001b[0mbackward\u001b[0m\u001b[0;34m(\u001b[0m\u001b[0;34m)\u001b[0m\u001b[0;34m\u001b[0m\u001b[0;34m\u001b[0m\u001b[0m\n\u001b[0m\u001b[1;32m     15\u001b[0m \u001b[0;34m\u001b[0m\u001b[0m\n\u001b[1;32m     16\u001b[0m     \u001b[0;32mif\u001b[0m \u001b[0mi\u001b[0m \u001b[0;34m%\u001b[0m \u001b[0;36m100\u001b[0m \u001b[0;34m==\u001b[0m \u001b[0;36m0\u001b[0m\u001b[0;34m:\u001b[0m\u001b[0;34m\u001b[0m\u001b[0;34m\u001b[0m\u001b[0m\n",
      "\u001b[0;32m~/.local/lib/python3.9/site-packages/torch/_tensor.py\u001b[0m in \u001b[0;36mbackward\u001b[0;34m(self, gradient, retain_graph, create_graph, inputs)\u001b[0m\n\u001b[1;32m    485\u001b[0m                 \u001b[0minputs\u001b[0m\u001b[0;34m=\u001b[0m\u001b[0minputs\u001b[0m\u001b[0;34m,\u001b[0m\u001b[0;34m\u001b[0m\u001b[0;34m\u001b[0m\u001b[0m\n\u001b[1;32m    486\u001b[0m             )\n\u001b[0;32m--> 487\u001b[0;31m         torch.autograd.backward(\n\u001b[0m\u001b[1;32m    488\u001b[0m             \u001b[0mself\u001b[0m\u001b[0;34m,\u001b[0m \u001b[0mgradient\u001b[0m\u001b[0;34m,\u001b[0m \u001b[0mretain_graph\u001b[0m\u001b[0;34m,\u001b[0m \u001b[0mcreate_graph\u001b[0m\u001b[0;34m,\u001b[0m \u001b[0minputs\u001b[0m\u001b[0;34m=\u001b[0m\u001b[0minputs\u001b[0m\u001b[0;34m\u001b[0m\u001b[0;34m\u001b[0m\u001b[0m\n\u001b[1;32m    489\u001b[0m         )\n",
      "\u001b[0;32m~/.local/lib/python3.9/site-packages/torch/autograd/__init__.py\u001b[0m in \u001b[0;36mbackward\u001b[0;34m(tensors, grad_tensors, retain_graph, create_graph, grad_variables, inputs)\u001b[0m\n\u001b[1;32m    198\u001b[0m     \u001b[0;31m# some Python versions print out the first line of a multi-line function\u001b[0m\u001b[0;34m\u001b[0m\u001b[0;34m\u001b[0m\u001b[0m\n\u001b[1;32m    199\u001b[0m     \u001b[0;31m# calls in the traceback and some print out the last line\u001b[0m\u001b[0;34m\u001b[0m\u001b[0;34m\u001b[0m\u001b[0m\n\u001b[0;32m--> 200\u001b[0;31m     Variable._execution_engine.run_backward(  # Calls into the C++ engine to run the backward pass\n\u001b[0m\u001b[1;32m    201\u001b[0m         \u001b[0mtensors\u001b[0m\u001b[0;34m,\u001b[0m \u001b[0mgrad_tensors_\u001b[0m\u001b[0;34m,\u001b[0m \u001b[0mretain_graph\u001b[0m\u001b[0;34m,\u001b[0m \u001b[0mcreate_graph\u001b[0m\u001b[0;34m,\u001b[0m \u001b[0minputs\u001b[0m\u001b[0;34m,\u001b[0m\u001b[0;34m\u001b[0m\u001b[0;34m\u001b[0m\u001b[0m\n\u001b[1;32m    202\u001b[0m         allow_unreachable=True, accumulate_grad=True)  # Calls into the C++ engine to run the backward pass\n",
      "\u001b[0;31mKeyboardInterrupt\u001b[0m: "
     ]
    }
   ],
   "source": [
    "#epo_cont_ =\n",
    "#model_weights = torch.load(f'{res_dir}/epo{epo_cont_}model_weights.pth')\n",
    "#net.load_state_dict(model_weights)\n",
    "\n",
    "net_input_saved = net_input.detach().clone()\n",
    "noise = net_input.detach().clone()\n",
    "\n",
    "i = 0\n",
    "p = get_params(OPT_OVER, net, net_input)\n",
    "optimize(OPTIMIZER, p, closure, LR, num_iter)"
   ]
  }
 ],
 "metadata": {
  "accelerator": "GPU",
  "colab": {
   "gpuClass": "premium",
   "machine_shape": "hm",
   "provenance": [
    {
     "file_id": "13iyaFx8etnFRHZv0bCjk3aN3mXVPPn0J",
     "timestamp": 1688480445459
    },
    {
     "file_id": "105N2Ws1HRPedH29X3sa3f-n8CuGfYQ43",
     "timestamp": 1688479969222
    },
    {
     "file_id": "1uHKG_Q7ENjhcp8sUtHs5nQeZbWWF0D1n",
     "timestamp": 1688283748542
    },
    {
     "file_id": "1ObIlU5aM4yCoKBfq9_rKaSWWgsnJJo9O",
     "timestamp": 1688283274320
    },
    {
     "file_id": "1ET8tEnykIssaG1CyEOJQnzj234dIQos_",
     "timestamp": 1688218636580
    },
    {
     "file_id": "1I52Hk_EAtdi6hhifSJa5n9Oyuw3uIXlg",
     "timestamp": 1688212408983
    },
    {
     "file_id": "1d0zDomofIuN_mKHs1ndxeXkRF2sxigeq",
     "timestamp": 1688211917695
    },
    {
     "file_id": "1WsG-N2VdgPflRMBWMYUleXrZT6FfIW3u",
     "timestamp": 1687765562594
    },
    {
     "file_id": "1ihehHAAB5tDEHUWjhwWeVFifTAh1me2S",
     "timestamp": 1687765015540
    },
    {
     "file_id": "1v4Tx2Rvqfjt4-JIjJ1Gf2niTfqcwO-Af",
     "timestamp": 1686984620725
    },
    {
     "file_id": "168e2Pkv7uhL2vXfrRbqKmiHK2-16RBCB",
     "timestamp": 1686666612660
    },
    {
     "file_id": "1j57YXXgZY1EXtQuoZlqvapdpM2z0MhSu",
     "timestamp": 1686665691741
    },
    {
     "file_id": "18lTtU4yX6-23P0ag7vse04pBkLkWaabl",
     "timestamp": 1686388188197
    },
    {
     "file_id": "19xP80tLbspBV0oFIzMN-5cM3VV4yRxIz",
     "timestamp": 1686061449809
    },
    {
     "file_id": "1sT_Jrvv1vxCHvPcFgmJucR12_yD7OFHd",
     "timestamp": 1686059199201
    },
    {
     "file_id": "1rT9xpjivF-L81Tu6syn0G7wUJ6ULzVTW",
     "timestamp": 1686059027283
    },
    {
     "file_id": "1TiGnlauw_VOBEHilT8Z8xi3Y37nm2Qhh",
     "timestamp": 1685186560060
    },
    {
     "file_id": "1Rmc-b35IufBOH4oPSR3xOvDiREbmh__B",
     "timestamp": 1684852886729
    },
    {
     "file_id": "1-orxQ23qZgYfToP3j9nHnwrwp9U7OHBi",
     "timestamp": 1684844183585
    },
    {
     "file_id": "1dJ8a8tRnFg-RBn9KbtlWgNZbvh5iC8Ts",
     "timestamp": 1684587551960
    },
    {
     "file_id": "1QQObuL6tL3qIqwIOsph0UoKqhQlKNtxw",
     "timestamp": 1684587026619
    },
    {
     "file_id": "1Ar6vTBC3sU8EBd4LLAeuN0OjdjgYzA0l",
     "timestamp": 1684258663461
    },
    {
     "file_id": "1NIORZmPCMR17kzs-3xvKGnIfgna9f7ue",
     "timestamp": 1684257172927
    },
    {
     "file_id": "1KnGKYG5kvDbt_dhBfgpR_ltciHPeiBd3",
     "timestamp": 1684255896415
    },
    {
     "file_id": "1FEImuoJDFRuYt68b6WWaCd6xtuVrIuzS",
     "timestamp": 1683647081896
    },
    {
     "file_id": "1YpAsBWhr8khZFpOsOUclHkpOL7tfBPed",
     "timestamp": 1682389442709
    },
    {
     "file_id": "1x3XYSzMki93XfuPsqTX0LwtLQLQYSViR",
     "timestamp": 1682368199937
    },
    {
     "file_id": "1BgZvX4mQuDRTZ74tHjEzUqW6boA8slK8",
     "timestamp": 1682364346059
    },
    {
     "file_id": "1YFrhpTicjW_kw8aXam8pY2yGXcgN33Da",
     "timestamp": 1680622463520
    },
    {
     "file_id": "1xPSrJcqJeqZ2HTEFt9hbe8Y8zuDEa2Jq",
     "timestamp": 1680011001642
    },
    {
     "file_id": "1NRmvLhfpyPxxkd2b0m2Tsb4wHWQQGNg4",
     "timestamp": 1678913339931
    },
    {
     "file_id": "1nAmUpUcTlECdQB22-IPxszZIImQXQnWe",
     "timestamp": 1678912432807
    },
    {
     "file_id": "163h9233D9R-1uHZKZv2ALYOeUpWL4Gzr",
     "timestamp": 1678893406962
    },
    {
     "file_id": "1tuUe0AkGuLTd2x_n3aolXi2j6lozBGKP",
     "timestamp": 1678674535665
    }
   ]
  },
  "gpuClass": "premium",
  "kernelspec": {
   "display_name": "Python 3 (ipykernel)",
   "language": "python",
   "name": "python3"
  },
  "language_info": {
   "codemirror_mode": {
    "name": "ipython",
    "version": 3
   },
   "file_extension": ".py",
   "mimetype": "text/x-python",
   "name": "python",
   "nbconvert_exporter": "python",
   "pygments_lexer": "ipython3",
   "version": "3.9.7"
  }
 },
 "nbformat": 4,
 "nbformat_minor": 5
}
