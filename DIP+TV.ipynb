{
 "cells": [
  {
   "cell_type": "code",
   "execution_count": 1,
   "id": "c8876034",
   "metadata": {
    "colab": {
     "base_uri": "https://localhost:8080/"
    },
    "executionInfo": {
     "elapsed": 28535,
     "status": "ok",
     "timestamp": 1688480509811,
     "user": {
      "displayName": "Cheng-Che Tsai",
      "userId": "06148275036649066160"
     },
     "user_tz": -480
    },
    "id": "c8876034",
    "outputId": "8b8d3e3d-61da-4de1-cf61-3d38b3f244fb"
   },
   "outputs": [
    {
     "name": "stderr",
     "output_type": "stream",
     "text": [
      "usage: ipykernel_launcher.py [-h] [--file FILE] [--factor FACTOR]\n",
      "                             [--model_folder MODEL_FOLDER] [--input_img]\n",
      "                             [--double_arm DOUBLE_ARM] [--SSIM] [--kspace_mse]\n",
      "                             [--kspace_mse_shape KSPACE_MSE_SHAPE]\n",
      "                             [--kspace_boundary]\n",
      "                             [--kbound_weight KBOUND_WEIGHT]\n",
      "                             [--kbound_lower KBOUND_LOWER]\n",
      "                             [--kbound_outer_layer KBOUND_OUTER_LAYER]\n",
      "ipykernel_launcher.py: error: unrecognized arguments: -f /nas/longleaf/home/cctsai/.local/share/jupyter/runtime/kernel-b1113fed-11a7-4788-9a19-626110e87df5.json\n"
     ]
    },
    {
     "ename": "SystemExit",
     "evalue": "2",
     "output_type": "error",
     "traceback": [
      "An exception has occurred, use %tb to see the full traceback.\n",
      "\u001b[0;31mSystemExit\u001b[0m\u001b[0;31m:\u001b[0m 2\n"
     ]
    },
    {
     "name": "stderr",
     "output_type": "stream",
     "text": [
      "/nas/longleaf/rhel8/apps/anaconda/2021.11.ood/lib/python3.9/site-packages/IPython/core/interactiveshell.py:3452: UserWarning: To exit: use 'exit', 'quit', or Ctrl-D.\n",
      "  warn(\"To exit: use 'exit', 'quit', or Ctrl-D.\", stacklevel=1)\n"
     ]
    }
   ],
   "source": [
    "DEV_MODE = False\n",
    "\n",
    "if DEV_MODE:\n",
    "    class TestArg():\n",
    "        def __init__(self, file, factor):\n",
    "            self.file = file\n",
    "            self.factor = factor\n",
    "            self.model_folder = \"dev_mode\"\n",
    "            self.input_img = False\n",
    "            self.kspace_mse = False\n",
    "            self.kspace_boundary = False\n",
    "            self.kbound_weight = 0.0001*5\n",
    "            self.kbound_lower = 0.95\n",
    "            self.kspace_mse_shape = 'u'\n",
    "            self.kbound_outer_layer = 'False' \n",
    "            \n",
    "    args = TestArg(file=\"/work/users/c/c/cctsai/data/BCP_sample/357_T1w_MPR_NORM_3.npy\", factor=2)\n",
    "else:\n",
    "    from argparse import ArgumentParser\n",
    "    parser = ArgumentParser()\n",
    "    parser.add_argument(\"--file\")\n",
    "    parser.add_argument(\"--factor\")\n",
    "    \n",
    "    #basic config\n",
    "    parser.add_argument(\"--model_folder\")\n",
    "    parser.add_argument(\"--input_img\", action=\"store_true\", default=False)\n",
    "    parser.add_argument(\"--double_arm\", default=\"False\")\n",
    "    \n",
    "    #loss config\n",
    "    parser.add_argument(\"--SSIM\", action=\"store_true\", default=False)\n",
    "    parser.add_argument(\"--kspace_mse\", action=\"store_true\", default=False)\n",
    "    parser.add_argument(\"--kspace_mse_shape\", default='v')\n",
    "    \n",
    "    #kspace boundary\n",
    "    parser.add_argument(\"--kspace_boundary\", action=\"store_true\", default=False)\n",
    "    parser.add_argument(\"--kbound_weight\", default = 0.0001*5)\n",
    "    parser.add_argument(\"--kbound_lower\", default = 0.95)\n",
    "    parser.add_argument(\"--kbound_outer_layer\", default = \"True\")\n",
    "    \n",
    "    # tv_weight\n",
    "    parser.add_argument(\"--tv_weight\", default = 0.001)\n",
    "    \n",
    "    args = parser.parse_args()\n",
    "    \n",
    "_name_ = args.file.split(\"/\")[-1].split(\".\")[0]\n",
    "model_folder = args.model_folder\n",
    "\n",
    "factor = float(args.factor)  #1.25, 1.5, 1.75, 2  \n",
    "tv_weight = float(args.tv_weight) #0.001\n",
    "    \n",
    "import os, sys, glob\n",
    "sys.path.append(\"./utils\")\n",
    "res_dir = f\"/work/users/c/c/cctsai/res/{model_folder}/{_name_}/{int(factor*100)}\"\n",
    "\n",
    "import numpy as np\n",
    "import torch\n",
    "import torch.optim\n",
    "import torch.nn.functional as F\n",
    "from utils_unet3D_ver3 import *\n",
    "from utils_kspace_torch import *\n",
    "from utils.models import *\n",
    "from utils.prep import *\n",
    "from utils.sr_common import *\n",
    "\n",
    "from skimage.metrics import peak_signal_noise_ratio as compare_psnr\n",
    "from skimage.metrics import structural_similarity as compare_ssim\n",
    "\n",
    "torch.backends.cudnn.enabled = True\n",
    "torch.backends.cudnn.benchmark =True\n",
    "dtype = torch.cuda.FloatTensor\n",
    "os.environ['KMP_DUPLICATE_LIB_OK'] = 'TRUE'\n",
    "\n",
    "for new_dir in [res_dir, f\"{res_dir}/model\", f\"{res_dir}/log\"]:\n",
    "    if not os.path.exists(new_dir):\n",
    "        os.makedirs(new_dir)\n",
    "\n",
    "import datetime\n",
    "current_time = datetime.datetime.now().time()\n",
    "print_log = lambda msg: write_log(msg, f'{res_dir}/log/age{_name_}_factor{factor*100}_{current_time}.txt') # from prep.py\n",
    "\n",
    "print_log(f\"Task name: {_name_}, factor={factor}\")\n",
    "\n",
    "# save the argument in the output txt\n",
    "arguments_dict = vars(args)\n",
    "arguments_string = \"\\n\".join([f\"{key}: {value}\" for key, value in arguments_dict.items()])\n",
    "print_log(arguments_string)"
   ]
  },
  {
   "cell_type": "code",
   "execution_count": 2,
   "id": "ec5857f4",
   "metadata": {},
   "outputs": [],
   "source": [
    "modality = 'T1'\n",
    "twoarm_ratio = 1/5\n",
    "\n",
    "input_depth = 1\n",
    "INPUT =     'noise'\n",
    "OPT_OVER =  'net'\n",
    "\n",
    "LR = 0.0001\n",
    "kspace_weight = 0.0001 #stronger from 0.0001\n",
    "kspace_boundary_weight = float(args.kbound_weight)\n",
    "KBOUND_LOWER = float(args.kbound_lower)\n",
    "KBOUND_OUTER_LAYER = args.kbound_outer_layer\n",
    "\n",
    "\n",
    "lambda_reg = 0.00001\n",
    "OPTIMIZER = 'adam'\n",
    "\n",
    "num_iter = 10000\n",
    "reg_noise_std = 0.03\n",
    "\n",
    "if args.input_img:\n",
    "    reg_noise_std = 0\n",
    "\n",
    "downsampler = lambda img: torch_sinc_downsampler_3D(img, factor)"
   ]
  },
  {
   "cell_type": "code",
   "execution_count": 3,
   "id": "2eb7fxFf7q7f",
   "metadata": {
    "colab": {
     "base_uri": "https://localhost:8080/"
    },
    "executionInfo": {
     "elapsed": 2029,
     "status": "ok",
     "timestamp": 1688480511837,
     "user": {
      "displayName": "Cheng-Che Tsai",
      "userId": "06148275036649066160"
     },
     "user_tz": -480
    },
    "id": "2eb7fxFf7q7f",
    "outputId": "d054e563-fce8-48d5-e24b-c53168dbc3f5"
   },
   "outputs": [
    {
     "data": {
      "text/plain": [
       "torch.Size([32, 32, 32])"
      ]
     },
     "execution_count": 3,
     "metadata": {},
     "output_type": "execute_result"
    }
   ],
   "source": [
    "img_HR_np = np.load(args.file)\n",
    "if DEV_MODE:\n",
    "    img_HR_np = img_HR_np[:64, :64, :64]\n",
    "\n",
    "img_HR_np = nor(img_HR_np)\n",
    "img_LR_tensor = downsampler(img_HR_np)\n",
    "img_LR_tensor = torch.clamp(img_LR_tensor, min=0.0, max=1.0)\n",
    "\n",
    "imgs = {'orig_np':img_HR_np,\n",
    "        'LR_np': img_LR_tensor.numpy()\n",
    "       }\n",
    "\n",
    "# image kspace\n",
    "img_LR_var =  torch.clone(img_LR_tensor).type(dtype)\n",
    "img_LR_kspace = to_k_space(img_LR_var)\n",
    "\n",
    "# shape\n",
    "img_LR_kspace.shape"
   ]
  },
  {
   "cell_type": "code",
   "execution_count": 4,
   "id": "6c6f79f7",
   "metadata": {
    "executionInfo": {
     "elapsed": 649,
     "status": "ok",
     "timestamp": 1688480512483,
     "user": {
      "displayName": "Cheng-Che Tsai",
      "userId": "06148275036649066160"
     },
     "user_tz": -480
    },
    "id": "6c6f79f7"
   },
   "outputs": [
    {
     "name": "stdout",
     "output_type": "stream",
     "text": [
      "input1 shape: torch.Size([1, 1, 64, 64, 64])\n",
      "input2 shape: torch.Size([1, 1, 32, 32, 32])\n"
     ]
    }
   ],
   "source": [
    "#net\n",
    "net = UNet3D(in_channels=input_depth, out_channels=1, trilinear=True, conv_residual=True).cuda()\n",
    "\n",
    "# inputs\n",
    "side=img_HR_np.shape[-1]\n",
    "if not args.input_img:\n",
    "    net_input = get_noise_3d(input_depth, INPUT, (side,side,side)).type(dtype).detach()\n",
    "else:\n",
    "    upsampled = sinc_upsampler(img_LR_tensor, side, factor)\n",
    "    net_input = upsampled.unsqueeze(0).unsqueeze(0).type(dtype)\n",
    "\n",
    "net_input2 = downsampler(net_input[0][0]).unsqueeze(0).unsqueeze(1)\n",
    "print_log(f'input1 shape: {net_input.shape}')\n",
    "print_log(f'input2 shape: {net_input2.shape}')"
   ]
  },
  {
   "cell_type": "code",
   "execution_count": 5,
   "id": "d957f8a0",
   "metadata": {},
   "outputs": [],
   "source": [
    "def gen_ksapce_mask(shape, size):\n",
    "    if shape.lower()=='v':\n",
    "        kspace_mask = torch.zeros((size,size,size))\n",
    "        for half_size in range(1, size//2+1):\n",
    "            if half_size ==size:\n",
    "                value = half_size//2\n",
    "            else:\n",
    "                value = half_size\n",
    "            kspace_mask = fill_3D_shell(kspace_mask, half_size, value)\n",
    "\n",
    "        kspace_mask = kspace_mask/kspace_mask.max()\n",
    "    \n",
    "    elif shape.lower()=='u':\n",
    "        kspace_mask = torch.zeros((size,size,size))\n",
    "        mag = np.linspace(0,5,size//2)\n",
    "        kweight = np.power(2, mag)  \n",
    "        for half_size in range(1, size//2+1):\n",
    "            if half_size ==size:\n",
    "                value = kweight[half_size-1]/2\n",
    "            else:\n",
    "                value = kweight[half_size-1]\n",
    "            kspace_mask = fill_3D_shell(kspace_mask, half_size, value)\n",
    "\n",
    "        kspace_mask = kspace_mask/kspace_mask.max()\n",
    "        \n",
    "    elif shape.lower()=='i':\n",
    "        kspace_mask = torch.ones((size,size,size))\n",
    "    return kspace_mask"
   ]
  },
  {
   "cell_type": "code",
   "execution_count": 6,
   "id": "kFItyF_2PJta",
   "metadata": {
    "executionInfo": {
     "elapsed": 558,
     "status": "ok",
     "timestamp": 1688480513039,
     "user": {
      "displayName": "Cheng-Che Tsai",
      "userId": "06148275036649066160"
     },
     "user_tz": -480
    },
    "id": "kFItyF_2PJta"
   },
   "outputs": [],
   "source": [
    "size = img_LR_var.shape[-1]\n",
    "\n",
    "if args.kspace_mse or args.kspace_boundary:\n",
    "    assert args.kspace_mse_shape.lower() in ['u','v','i']\n",
    "    \n",
    "    kspace_mask = gen_ksapce_mask(args.kspace_mse_shape, size).type(dtype)\n",
    "    kspace_mask2 = central_crop_3D(kspace_mask, factor)\n",
    "    #kspace_mask2 = kspace_mask2/kspace_mask2.max()\n",
    "    kspace_mask2 = kspace_mask2.type(dtype)\n",
    "\n",
    "    def kspace_loss(z_pred, z_true, kspace_mask=kspace_mask):\n",
    "        # = out_LR_kspace, img_LR_kspace\n",
    "        z_diff = z_pred - z_true\n",
    "\n",
    "        # Calculate the absolute value of the difference (real, imag) and square each element\n",
    "        z_abs_sq = torch.square(torch.abs(z_diff))\n",
    "        z_abs_sq = z_abs_sq*kspace_mask\n",
    "\n",
    "        # Calculate the mean squared error (MSE) loss in complex number space\n",
    "        mse_loss = torch.mean(z_abs_sq)\n",
    "        return mse_loss\n",
    "\n",
    "# def sum_abs(tensor):\n",
    "#     return torch.sum(torch.abs(tensor))\n",
    "\n",
    "\n",
    "def charbonnier_loss(prediction, target, epsilon=1e-6):\n",
    "    error = torch.sqrt((prediction - target)**2 + epsilon**2)\n",
    "    loss = torch.mean(error)\n",
    "    return loss\n",
    "\n",
    "\n",
    "def kboundary_loss_fn(LR_kspace, HR_kspace, factor, kbound_lower, kbound_outer_layer):\n",
    "    bd_idx = 16 if DEV_MODE else 48\n",
    "    \n",
    "    HR_kspace = HR_kspace/(factor**3)\n",
    "    HR_kspace_abs = torch.abs(HR_kspace)\n",
    "    LR_kspace_abs = torch.abs(LR_kspace)\n",
    "\n",
    "    HR_shell_mean = get_3D_shell(HR_kspace_abs, bd_idx).mean()\n",
    "    LR_shell_mean = get_3D_shell(LR_kspace_abs, bd_idx-1).mean()\n",
    "\n",
    "    # CHANGED TO MSE, FROM L1 LOSS\n",
    "    diff = torch.pow(HR_shell_mean - LR_shell_mean, 2)\n",
    "    first_loss = diff if((HR_shell_mean > 0.99*LR_shell_mean) or (HR_shell_mean < kbound_lower*LR_shell_mean)) else 0\n",
    "    loss = first_loss\n",
    "\n",
    "    if kbound_outer_layer=='True':\n",
    "        #loss_weight_decay_rate = 0.95\n",
    "        for layer in range(bd_idx+1, bd_idx+2):\n",
    "            previous_shell_mean = get_3D_shell(HR_kspace_abs, layer-1).mean()\n",
    "            current_shell_mean = get_3D_shell(HR_kspace_abs, layer).mean()\n",
    "            diff = torch.pow(previous_shell_mean - current_shell_mean, 2)\n",
    "            loss += diff if ((current_shell_mean > 0.99*previous_shell_mean) or (current_shell_mean < kbound_lower*previous_shell_mean)) else 0\n",
    "\n",
    "    return loss, first_loss"
   ]
  },
  {
   "cell_type": "code",
   "execution_count": null,
   "id": "8c6c3d04",
   "metadata": {},
   "outputs": [],
   "source": []
  },
  {
   "cell_type": "code",
   "execution_count": 7,
   "id": "6bf4a6dc",
   "metadata": {
    "executionInfo": {
     "elapsed": 5,
     "status": "ok",
     "timestamp": 1688480513040,
     "user": {
      "displayName": "Cheng-Che Tsai",
      "userId": "06148275036649066160"
     },
     "user_tz": -480
    },
    "id": "6bf4a6dc"
   },
   "outputs": [],
   "source": [
    "#total loss\n",
    "#total_loss = main_loss1 + kspace_mse1 + twoarm_ratio*(main_loss2 + kspace_mse2) + kspace_boundary_loss + lambda_reg*l2_reg\n",
    "\n",
    "def closure():\n",
    "    global i, net_input, net_input2\n",
    "\n",
    "    if reg_noise_std > 0:\n",
    "        net_input = net_input_saved + (noise.normal_() * reg_noise_std)\n",
    "        net_input2 = net_input2_saved + (noise2.normal_() * reg_noise_std)\n",
    "\n",
    "    out_HR = net(net_input)\n",
    "    out_HR_kspace = to_k_space(out_HR[0][0])\n",
    "    out_LR_kspace = central_crop_3D(out_HR_kspace, factor)/(factor**3)\n",
    "    out_LR = inv_fft(out_LR_kspace)\n",
    "    out_LR = torch.clamp(out_LR, min=0.0, max=1.0)\n",
    "\n",
    "    main_loss1 = charbonnier_loss(out_LR, img_LR_var)\n",
    "    total_loss = main_loss1\n",
    "\n",
    "#     if args.double_arm==\"True\":\n",
    "#         out_HR2 = net(net_input2)\n",
    "#         out_HR2 = torch.clamp(out_HR2, min=0.0, max=1.0)\n",
    "#         out_HR2_kspace = to_k_space(out_HR2[0][0])\n",
    "#         main_loss2 = charbonnier_loss(out_HR2, img_LR_var)\n",
    "#         total_loss = total_loss + (twoarm_ratio*main_loss2)\n",
    "\n",
    "    # Compute L2 regularization term for the last layer\n",
    "    l2_reg = 0\n",
    "    for param in net.parameters():\n",
    "        l2_reg += torch.norm(param)\n",
    "    total_loss = total_loss+lambda_reg*l2_reg\n",
    "    \n",
    "    tvloss = tv_weight*TVLoss3D(out_HR)\n",
    "    total_loss += tvloss\n",
    "    \n",
    "    \"\"\"kspace loss\"\"\"\n",
    "    #kspace_mse\n",
    "#     if args.kspace_mse:\n",
    "#         kspace_mse1 = kspace_weight*kspace_loss(out_LR_kspace, img_LR_kspace)\n",
    "#         total_loss = total_loss + kspace_mse1 \n",
    "        \n",
    "#         if args.double_arm==\"True\":\n",
    "#             kspace_mse2 = kspace_weight*kspace_loss(out_HR2_kspace, img_LR_kspace)\n",
    "#             total_loss = total_loss + (twoarm_ratio*kspace_mse2)\n",
    "        \n",
    "#     if args.kspace_boundary:\n",
    "#         kboundary_total_loss, kboundary_first_loss = kboundary_loss_fn(img_LR_kspace, out_HR_kspace, factor, KBOUND_LOWER, KBOUND_OUTER_LAYER)\n",
    "#         kspace_boundary_loss = kspace_boundary_weight*kboundary_total_loss\n",
    "#         total_loss = total_loss + kspace_boundary_loss\n",
    "    total_loss.backward()\n",
    "\n",
    "    if i % 100 == 0:\n",
    "        # kspace_replacement\n",
    "        dip_img = out_HR[0][0].detach().cpu().numpy()\n",
    "        dip_img_central_replacement = central_replacement_3d(imgs['orig_np'], dip_img, factor=factor)\n",
    "\n",
    "        # psnr\n",
    "        psnr_LR = volumetric_psnr(imgs['LR_np'], out_LR)\n",
    "        psnr_HR = volumetric_psnr(imgs['orig_np'], dip_img)\n",
    "        psnr_kr = volumetric_psnr(imgs['orig_np'], dip_img_central_replacement)\n",
    "        ssim_index = compare_ssim(imgs['orig_np'], dip_img, channel_axis=None)\n",
    "        ssim_index_kr = compare_ssim(imgs['orig_np'], dip_img_central_replacement, channel_axis=None)\n",
    "\n",
    "       #1001 newly add \n",
    "        item_list = [(\"Iteration %05d\", i), (\"PSNR_LR %.3f\", psnr_LR), (\"PSNR_HR %.3f\", psnr_HR),\n",
    "             (\"PSNR_KR %.3f\", psnr_kr), (\"SSIM %.3f\", ssim_index), (\"SSIM_KR %.3f\", ssim_index_kr),\n",
    "             (\"Loss %.5f\", total_loss), (\"img_mse %.5f\", main_loss1), \n",
    "             (\"reg_term %.5f\", lambda_reg*l2_reg)]\n",
    "        \n",
    "        item_list += [(\"tvloss %.5f\", tvloss)]\n",
    "#         if args.double_arm==\"True\":\n",
    "#             psnr_LR2 = volumetric_psnr(imgs['LR_np'], out_HR2[0][0]) #  HR2 is actually at the dimension of LR\n",
    "#             item_list += [(\"sec_img_mse %.5f\", twoarm_ratio*main_loss2), (\"PSNR_LR2 %.3f\", psnr_LR2)]\n",
    "        \n",
    "        if args.kspace_mse:\n",
    "            item_list += [(\"kspace_mse %.5f\", kspace_mse1)]\n",
    "#             if args.double_arm==\"True\":\n",
    "#                 item_list += [(\"sec_kspace_mse %.5f\", twoarm_ratio*kspace_mse2)]\n",
    "                \n",
    "        if args.kspace_boundary:\n",
    "            item_list += [(\"kspace_boundary %.5f\", kspace_boundary_loss)]\n",
    "\n",
    "        output_line = save_info_dict(item_list, info_path=f'{res_dir}/log/info_dict_factor{factor*100}')\n",
    "        print_log(output_line)\n",
    "        \n",
    "#         print_log('Iteration %05d  PSNR_LR %.3f  PSNR_HR %.3f  PSNR_KR %.3f | SSIM %.3f  SSIM_KR %.3f | Loss %.5f  Img_mse %.5f  kspace_mse %.5f  kspace_boundary %.5f' % \n",
    "#                   (i, psnr_LR, psnr_HR, psnr_kr, ssim_index, ssim_index_kr, total_loss, main_loss1, kspace_mse1, kspace_boundary_loss))\n",
    " \n",
    "        if i>2000:\n",
    "            out_HR_np = torch_to_np(out_HR)\n",
    "            np.save(f'{res_dir}/HR_volume_{i}.npy', out_HR_np[0])\n",
    "        if i%1000 ==0:\n",
    "            torch.save(net.state_dict(), f'{res_dir}/model/epoch{i}_model_weights.pth')\n",
    "    i += 1\n",
    "    return total_loss"
   ]
  },
  {
   "cell_type": "code",
   "execution_count": null,
   "id": "3aa16f3e",
   "metadata": {
    "colab": {
     "base_uri": "https://localhost:8080/",
     "height": 1000
    },
    "executionInfo": {
     "elapsed": 7990505,
     "status": "error",
     "timestamp": 1688488503541,
     "user": {
      "displayName": "Cheng-Che Tsai",
      "userId": "06148275036649066160"
     },
     "user_tz": -480
    },
    "id": "3aa16f3e",
    "outputId": "2a9ee497-beb0-439b-f5d7-3a5dc2940f18"
   },
   "outputs": [
    {
     "name": "stdout",
     "output_type": "stream",
     "text": [
      "Starting optimization with ADAM\n"
     ]
    },
    {
     "name": "stderr",
     "output_type": "stream",
     "text": [
      "/tmp/ipykernel_2567567/3554732543.py:61: UserWarning: Inputs have mismatched dtype.  Setting data_range based on im1.dtype.\n",
      "  ssim_index = compare_ssim(imgs['orig_np'], dip_img, channel_axis=None)\n",
      "/tmp/ipykernel_2567567/3554732543.py:62: UserWarning: Inputs have mismatched dtype.  Setting data_range based on im1.dtype.\n",
      "  ssim_index_kr = compare_ssim(imgs['orig_np'], dip_img_central_replacement, channel_axis=None)\n"
     ]
    },
    {
     "name": "stdout",
     "output_type": "stream",
     "text": [
      "Iteration 00000  PSNR_LR 9.305  PSNR_HR 9.316  PSNR_KR 24.334  SSIM 0.039  SSIM_KR 0.387  Loss 0.31295  img_mse 0.31126  reg_term 0.00146  tvloss 0.00022  \n",
      "Iteration 00100  PSNR_LR 17.509  PSNR_HR 17.402  PSNR_KR 34.847  SSIM 0.213  SSIM_KR 0.965  Loss 0.12126  img_mse 0.11978  reg_term 0.00146  tvloss 0.00002  \n",
      "Iteration 00200  PSNR_LR 19.557  PSNR_HR 19.369  PSNR_KR 35.275  SSIM 0.268  SSIM_KR 0.971  Loss 0.09687  img_mse 0.09539  reg_term 0.00145  tvloss 0.00002  \n",
      "Iteration 00300  PSNR_LR 20.886  PSNR_HR 20.554  PSNR_KR 34.761  SSIM 0.305  SSIM_KR 0.971  Loss 0.08062  img_mse 0.07915  reg_term 0.00145  tvloss 0.00002  \n",
      "Iteration 00400  PSNR_LR 22.701  PSNR_HR 22.283  PSNR_KR 36.163  SSIM 0.357  SSIM_KR 0.976  Loss 0.06600  img_mse 0.06452  reg_term 0.00145  tvloss 0.00002  \n",
      "Iteration 00500  PSNR_LR 24.162  PSNR_HR 23.490  PSNR_KR 35.979  SSIM 0.401  SSIM_KR 0.976  Loss 0.05571  img_mse 0.05424  reg_term 0.00145  tvloss 0.00002  \n",
      "Iteration 00600  PSNR_LR 25.587  PSNR_HR 24.684  PSNR_KR 35.914  SSIM 0.450  SSIM_KR 0.976  Loss 0.04703  img_mse 0.04556  reg_term 0.00145  tvloss 0.00002  \n",
      "Iteration 00700  PSNR_LR 27.159  PSNR_HR 26.059  PSNR_KR 36.084  SSIM 0.507  SSIM_KR 0.976  Loss 0.03940  img_mse 0.03793  reg_term 0.00144  tvloss 0.00003  \n",
      "Iteration 00800  PSNR_LR 28.712  PSNR_HR 27.264  PSNR_KR 36.079  SSIM 0.559  SSIM_KR 0.975  Loss 0.03363  img_mse 0.03216  reg_term 0.00144  tvloss 0.00003  \n",
      "Iteration 00900  PSNR_LR 30.254  PSNR_HR 28.509  PSNR_KR 36.261  SSIM 0.611  SSIM_KR 0.976  Loss 0.02862  img_mse 0.02716  reg_term 0.00144  tvloss 0.00003  \n",
      "Iteration 01000  PSNR_LR 31.626  PSNR_HR 29.490  PSNR_KR 36.213  SSIM 0.663  SSIM_KR 0.975  Loss 0.02482  img_mse 0.02335  reg_term 0.00144  tvloss 0.00003  \n",
      "Iteration 01100  PSNR_LR 33.057  PSNR_HR 30.570  PSNR_KR 36.374  SSIM 0.711  SSIM_KR 0.975  Loss 0.02120  img_mse 0.01973  reg_term 0.00144  tvloss 0.00003  \n",
      "Iteration 01200  PSNR_LR 34.722  PSNR_HR 31.684  PSNR_KR 36.489  SSIM 0.753  SSIM_KR 0.975  Loss 0.01787  img_mse 0.01641  reg_term 0.00143  tvloss 0.00003  \n",
      "Iteration 01300  PSNR_LR 36.172  PSNR_HR 32.440  PSNR_KR 36.418  SSIM 0.789  SSIM_KR 0.975  Loss 0.01566  img_mse 0.01419  reg_term 0.00143  tvloss 0.00003  \n",
      "Iteration 01400  PSNR_LR 37.835  PSNR_HR 33.369  PSNR_KR 36.753  SSIM 0.826  SSIM_KR 0.976  Loss 0.01340  img_mse 0.01194  reg_term 0.00143  tvloss 0.00003  \n",
      "Iteration 01500  PSNR_LR 38.975  PSNR_HR 33.927  PSNR_KR 36.742  SSIM 0.854  SSIM_KR 0.976  Loss 0.01177  img_mse 0.01031  reg_term 0.00143  tvloss 0.00003  \n",
      "Iteration 01600  PSNR_LR 40.236  PSNR_HR 34.382  PSNR_KR 36.761  SSIM 0.878  SSIM_KR 0.976  Loss 0.01053  img_mse 0.00907  reg_term 0.00142  tvloss 0.00003  \n",
      "Iteration 01700  PSNR_LR 41.815  PSNR_HR 35.008  PSNR_KR 36.899  SSIM 0.897  SSIM_KR 0.976  Loss 0.00917  img_mse 0.00771  reg_term 0.00142  tvloss 0.00003  \n",
      "Iteration 01800  PSNR_LR 42.892  PSNR_HR 35.308  PSNR_KR 36.998  SSIM 0.913  SSIM_KR 0.977  Loss 0.00831  img_mse 0.00686  reg_term 0.00142  tvloss 0.00004  \n",
      "Iteration 01900  PSNR_LR 44.574  PSNR_HR 35.688  PSNR_KR 36.961  SSIM 0.926  SSIM_KR 0.977  Loss 0.00732  img_mse 0.00587  reg_term 0.00142  tvloss 0.00004  \n",
      "Iteration 02000  PSNR_LR 44.764  PSNR_HR 35.765  PSNR_KR 37.011  SSIM 0.935  SSIM_KR 0.977  Loss 0.00693  img_mse 0.00548  reg_term 0.00141  tvloss 0.00004  \n",
      "Iteration 02100  PSNR_LR 45.160  PSNR_HR 35.676  PSNR_KR 36.917  SSIM 0.941  SSIM_KR 0.977  Loss 0.00669  img_mse 0.00525  reg_term 0.00141  tvloss 0.00004  \n",
      "Iteration 02200  PSNR_LR 45.548  PSNR_HR 35.913  PSNR_KR 36.966  SSIM 0.946  SSIM_KR 0.977  Loss 0.00611  img_mse 0.00467  reg_term 0.00141  tvloss 0.00004  \n",
      "Iteration 02300  PSNR_LR 46.760  PSNR_HR 36.256  PSNR_KR 37.078  SSIM 0.951  SSIM_KR 0.978  Loss 0.00552  img_mse 0.00408  reg_term 0.00140  tvloss 0.00004  \n",
      "Iteration 02400  PSNR_LR 46.610  PSNR_HR 36.194  PSNR_KR 36.942  SSIM 0.953  SSIM_KR 0.978  Loss 0.00531  img_mse 0.00387  reg_term 0.00140  tvloss 0.00004  \n",
      "Iteration 02500  PSNR_LR 43.286  PSNR_HR 35.851  PSNR_KR 37.055  SSIM 0.954  SSIM_KR 0.978  Loss 0.00575  img_mse 0.00432  reg_term 0.00140  tvloss 0.00004  \n",
      "Iteration 02600  PSNR_LR 44.745  PSNR_HR 36.168  PSNR_KR 37.146  SSIM 0.956  SSIM_KR 0.978  Loss 0.00532  img_mse 0.00390  reg_term 0.00139  tvloss 0.00004  \n",
      "Iteration 02700  PSNR_LR 46.959  PSNR_HR 36.395  PSNR_KR 37.074  SSIM 0.958  SSIM_KR 0.978  Loss 0.00484  img_mse 0.00341  reg_term 0.00139  tvloss 0.00004  \n",
      "Iteration 02800  PSNR_LR 49.528  PSNR_HR 36.778  PSNR_KR 37.246  SSIM 0.959  SSIM_KR 0.978  Loss 0.00455  img_mse 0.00313  reg_term 0.00138  tvloss 0.00004  \n",
      "Iteration 02900  PSNR_LR 49.245  PSNR_HR 36.724  PSNR_KR 37.226  SSIM 0.959  SSIM_KR 0.978  Loss 0.00448  img_mse 0.00306  reg_term 0.00138  tvloss 0.00004  \n",
      "Iteration 03000  PSNR_LR 48.953  PSNR_HR 36.764  PSNR_KR 37.226  SSIM 0.960  SSIM_KR 0.979  Loss 0.00439  img_mse 0.00298  reg_term 0.00137  tvloss 0.00004  \n",
      "Iteration 03100  PSNR_LR 49.579  PSNR_HR 36.783  PSNR_KR 37.255  SSIM 0.961  SSIM_KR 0.978  Loss 0.00430  img_mse 0.00289  reg_term 0.00137  tvloss 0.00004  \n"
     ]
    }
   ],
   "source": [
    "#epo_cont_ =\n",
    "#model_weights = torch.load(f'{res_dir}/epo{epo_cont_}model_weights.pth')\n",
    "#net.load_state_dict(model_weights)\n",
    "\n",
    "net_input_saved = net_input.detach().clone()\n",
    "net_input2_saved = net_input2.detach().clone()\n",
    "noise = net_input.detach().clone()\n",
    "noise2 = net_input2.detach().clone()\n",
    "\n",
    "i = 0\n",
    "p = get_params(OPT_OVER, net, net_input)\n",
    "optimize(OPTIMIZER, p, closure, LR, num_iter)"
   ]
  },
  {
   "cell_type": "code",
   "execution_count": null,
   "id": "acdf13d7",
   "metadata": {
    "executionInfo": {
     "elapsed": 16,
     "status": "aborted",
     "timestamp": 1688488503543,
     "user": {
      "displayName": "Cheng-Che Tsai",
      "userId": "06148275036649066160"
     },
     "user_tz": -480
    },
    "id": "acdf13d7"
   },
   "outputs": [],
   "source": [
    "out_HR = net(net_input)\n",
    "out_LR = downsampler(out_HR[0][0])\n",
    "dip_img = out_HR[0][0].detach().cpu().numpy()\n",
    "dip_img_central_replacement = central_replacement_3d(img_HR_np, dip_img, factor=factor)\n",
    "\n",
    "print_log('Final iter performance')\n",
    "print_log(str(volumetric_psnr(img_HR_np, out_HR[0][0])))\n",
    "print_log(str(volumetric_psnr(img_HR_np, dip_img_central_replacement)))"
   ]
  }
 ],
 "metadata": {
  "accelerator": "GPU",
  "colab": {
   "gpuClass": "premium",
   "machine_shape": "hm",
   "provenance": [
    {
     "file_id": "13iyaFx8etnFRHZv0bCjk3aN3mXVPPn0J",
     "timestamp": 1688480445459
    },
    {
     "file_id": "105N2Ws1HRPedH29X3sa3f-n8CuGfYQ43",
     "timestamp": 1688479969222
    },
    {
     "file_id": "1uHKG_Q7ENjhcp8sUtHs5nQeZbWWF0D1n",
     "timestamp": 1688283748542
    },
    {
     "file_id": "1ObIlU5aM4yCoKBfq9_rKaSWWgsnJJo9O",
     "timestamp": 1688283274320
    },
    {
     "file_id": "1ET8tEnykIssaG1CyEOJQnzj234dIQos_",
     "timestamp": 1688218636580
    },
    {
     "file_id": "1I52Hk_EAtdi6hhifSJa5n9Oyuw3uIXlg",
     "timestamp": 1688212408983
    },
    {
     "file_id": "1d0zDomofIuN_mKHs1ndxeXkRF2sxigeq",
     "timestamp": 1688211917695
    },
    {
     "file_id": "1WsG-N2VdgPflRMBWMYUleXrZT6FfIW3u",
     "timestamp": 1687765562594
    },
    {
     "file_id": "1ihehHAAB5tDEHUWjhwWeVFifTAh1me2S",
     "timestamp": 1687765015540
    },
    {
     "file_id": "1v4Tx2Rvqfjt4-JIjJ1Gf2niTfqcwO-Af",
     "timestamp": 1686984620725
    },
    {
     "file_id": "168e2Pkv7uhL2vXfrRbqKmiHK2-16RBCB",
     "timestamp": 1686666612660
    },
    {
     "file_id": "1j57YXXgZY1EXtQuoZlqvapdpM2z0MhSu",
     "timestamp": 1686665691741
    },
    {
     "file_id": "18lTtU4yX6-23P0ag7vse04pBkLkWaabl",
     "timestamp": 1686388188197
    },
    {
     "file_id": "19xP80tLbspBV0oFIzMN-5cM3VV4yRxIz",
     "timestamp": 1686061449809
    },
    {
     "file_id": "1sT_Jrvv1vxCHvPcFgmJucR12_yD7OFHd",
     "timestamp": 1686059199201
    },
    {
     "file_id": "1rT9xpjivF-L81Tu6syn0G7wUJ6ULzVTW",
     "timestamp": 1686059027283
    },
    {
     "file_id": "1TiGnlauw_VOBEHilT8Z8xi3Y37nm2Qhh",
     "timestamp": 1685186560060
    },
    {
     "file_id": "1Rmc-b35IufBOH4oPSR3xOvDiREbmh__B",
     "timestamp": 1684852886729
    },
    {
     "file_id": "1-orxQ23qZgYfToP3j9nHnwrwp9U7OHBi",
     "timestamp": 1684844183585
    },
    {
     "file_id": "1dJ8a8tRnFg-RBn9KbtlWgNZbvh5iC8Ts",
     "timestamp": 1684587551960
    },
    {
     "file_id": "1QQObuL6tL3qIqwIOsph0UoKqhQlKNtxw",
     "timestamp": 1684587026619
    },
    {
     "file_id": "1Ar6vTBC3sU8EBd4LLAeuN0OjdjgYzA0l",
     "timestamp": 1684258663461
    },
    {
     "file_id": "1NIORZmPCMR17kzs-3xvKGnIfgna9f7ue",
     "timestamp": 1684257172927
    },
    {
     "file_id": "1KnGKYG5kvDbt_dhBfgpR_ltciHPeiBd3",
     "timestamp": 1684255896415
    },
    {
     "file_id": "1FEImuoJDFRuYt68b6WWaCd6xtuVrIuzS",
     "timestamp": 1683647081896
    },
    {
     "file_id": "1YpAsBWhr8khZFpOsOUclHkpOL7tfBPed",
     "timestamp": 1682389442709
    },
    {
     "file_id": "1x3XYSzMki93XfuPsqTX0LwtLQLQYSViR",
     "timestamp": 1682368199937
    },
    {
     "file_id": "1BgZvX4mQuDRTZ74tHjEzUqW6boA8slK8",
     "timestamp": 1682364346059
    },
    {
     "file_id": "1YFrhpTicjW_kw8aXam8pY2yGXcgN33Da",
     "timestamp": 1680622463520
    },
    {
     "file_id": "1xPSrJcqJeqZ2HTEFt9hbe8Y8zuDEa2Jq",
     "timestamp": 1680011001642
    },
    {
     "file_id": "1NRmvLhfpyPxxkd2b0m2Tsb4wHWQQGNg4",
     "timestamp": 1678913339931
    },
    {
     "file_id": "1nAmUpUcTlECdQB22-IPxszZIImQXQnWe",
     "timestamp": 1678912432807
    },
    {
     "file_id": "163h9233D9R-1uHZKZv2ALYOeUpWL4Gzr",
     "timestamp": 1678893406962
    },
    {
     "file_id": "1tuUe0AkGuLTd2x_n3aolXi2j6lozBGKP",
     "timestamp": 1678674535665
    }
   ]
  },
  "gpuClass": "premium",
  "kernelspec": {
   "display_name": "Python 3 (ipykernel)",
   "language": "python",
   "name": "python3"
  },
  "language_info": {
   "codemirror_mode": {
    "name": "ipython",
    "version": 3
   },
   "file_extension": ".py",
   "mimetype": "text/x-python",
   "name": "python",
   "nbconvert_exporter": "python",
   "pygments_lexer": "ipython3",
   "version": "3.9.7"
  }
 },
 "nbformat": 4,
 "nbformat_minor": 5
}
